{
 "cells": [
  {
   "cell_type": "markdown",
   "metadata": {},
   "source": [
    "# Машинное обучение, ММП ВМК\n",
    "\n",
    "## Практическое задание 1\n",
    "\n",
    "### Общая информация\n",
    "Дата выдачи: 15.10.2018  \n",
    "\n",
    "Мягкий дедлайн: 23:59MSK 24.10.2018 (за каждый день просрочки снимается 1 балл)\n",
    "\n",
    "Жесткий дедлайн: 23:59MSK 28.10.2018  "
   ]
  },
  {
   "cell_type": "markdown",
   "metadata": {},
   "source": [
    "### О задании\n",
    "\n",
    "Задание состоит из двух разделов, посвященных работе с табличными данными с помощью библиотеки pandas и визуализации с помощью matplotlib. В каждом разделе вам предлагается выполнить несколько заданий. Баллы даются за выполнение отдельных пунктов. Задачи в рамках одного раздела рекомендуется решать в том порядке, в котором они даны в задании.\n",
    "\n",
    "Задание направлено на освоение jupyter notebook (будет использоваться в дальнейших заданиях), библиотекам pandas и matplotlib.\n",
    "\n",
    "### Оценивание и штрафы\n",
    "Каждая из задач имеет определенную «стоимость» (указана в скобках около задачи). Максимально допустимая оценка за работу — 10 баллов.\n",
    "\n",
    "Сдавать задание после указанного срока сдачи нельзя. При выставлении неполного балла за задание в связи с наличием ошибок на усмотрение проверяющего предусмотрена возможность исправить работу на указанных в ответном письме условиях.\n",
    "\n",
    "Задание выполняется самостоятельно. «Похожие» решения считаются плагиатом и все задействованные студенты (в том числе те, у кого списали) не могут получить за него больше 0 баллов (подробнее о плагиате см. на странице курса). Если вы нашли решение какого-то из заданий (или его часть) в открытом источнике, необходимо указать ссылку на этот источник в отдельном блоке в конце вашей работы (скорее всего вы будете не единственным, кто это нашел, поэтому чтобы исключить подозрение в плагиате, необходима ссылка на источник).\n",
    "\n",
    "### Формат сдачи\n",
    "Задания сдаются через систему Anytask. Инвайт можно найти на странице курса. Присылать необходимо ноутбук с выполненным заданием. \n",
    "\n",
    "Для удобства проверки самостоятельно посчитайте свою максимальную оценку (исходя из набора решенных задач) и укажите ниже.\n",
    "\n",
    "Оценка: 10."
   ]
  },
  {
   "cell_type": "markdown",
   "metadata": {},
   "source": [
    "## 0. Введение"
   ]
  },
  {
   "cell_type": "markdown",
   "metadata": {
    "collapsed": true
   },
   "source": [
    "Сейчас мы находимся в jupyter-ноутбуке (или ipython-ноутбуке). Это удобная среда для написания кода, проведения экспериментов, изучения данных, построения визуализаций и других нужд, не связанных с написаем production-кода. \n",
    "\n",
    "Ноутбук состоит из ячеек, каждая из которых может быть либо ячейкой с кодом, либо ячейкой с текстом размеченным и неразмеченным. Текст поддерживает markdown-разметку и формулы в Latex.\n",
    "\n",
    "Для работы с содержимым ячейки используется *режим редактирования* (*Edit mode*, включается нажатием клавиши **Enter** после выбора ячейки), а для навигации между ячейками искользуется *командный режим* (*Command mode*, включается нажатием клавиши **Esc**). Тип ячейки можно задать в командном режиме либо с помощью горячих клавиш (**y** to code, **m** to markdown, **r** to edit raw text), либо в меню *Cell -> Cell type*. \n",
    "\n",
    "После заполнения ячейки нужно нажать *Shift + Enter*, эта команда обработает содержимое ячейки: проинтерпретирует код или сверстает размеченный текст."
   ]
  },
  {
   "cell_type": "code",
   "execution_count": 1541,
   "metadata": {},
   "outputs": [
    {
     "data": {
      "text/plain": [
       "4"
      ]
     },
     "execution_count": 1541,
     "metadata": {},
     "output_type": "execute_result"
    }
   ],
   "source": [
    "# ячейка с кодом, при выполнении которой появится output\n",
    "2 + 2"
   ]
  },
  {
   "cell_type": "markdown",
   "metadata": {},
   "source": [
    "А это ___ячейка с текстом___."
   ]
  },
  {
   "cell_type": "raw",
   "metadata": {},
   "source": [
    "Ячейка с неразмеченыным текстом."
   ]
  },
  {
   "cell_type": "markdown",
   "metadata": {},
   "source": [
    "Попробуйте создать свои ячейки, написать какой-нибудь код и текст какой-нибудь формулой."
   ]
  },
  {
   "cell_type": "code",
   "execution_count": null,
   "metadata": {},
   "outputs": [],
   "source": []
  },
  {
   "cell_type": "markdown",
   "metadata": {},
   "source": [
    "[Здесь](https://athena.brynmawr.edu/jupyter/hub/dblank/public/Jupyter%20Notebook%20Users%20Manual.ipynb) находится <s>не</s>большая заметка о используемом языке разметки Markdown. Он позволяет:\n",
    "\n",
    "0. Составлять упорядоченные списки\n",
    "1. #Делать \n",
    "##заголовки \n",
    "###разного уровня\n",
    "3. Выделять *текст* <s>при</s> **необходимости**\n",
    "4. Добавлять [ссылки](http://imgs.xkcd.com/comics/the_universal_label.png)\n",
    "\n",
    "\n",
    "* Составлять неупорядоченные списки\n",
    "\n",
    "Делать вставки с помощью LaTex:\n",
    "    \n",
    "$\n",
    "\\left\\{\n",
    "\\begin{array}{ll}\n",
    "x = 16 \\sin^3 (t) \\\\ \n",
    "y = 13 \\cos (t) - 5 \\cos (2t) - 2 \\cos (3t) - \\cos (4t) \\\\\n",
    "t \\in [0, 2 \\pi]\n",
    "\\end{array}\n",
    "\\right.$"
   ]
  },
  {
   "cell_type": "markdown",
   "metadata": {},
   "source": [
    "## 1. Табличные данные и Pandas"
   ]
  },
  {
   "cell_type": "markdown",
   "metadata": {},
   "source": [
    "Pandas — удобная библиотека для работы с табличными данными в Python, если данных не слишком много и они помещаются в оперативную память вашего компьютера. Несмотря на неэффективность реализации и некоторые проблемы, библиотека стала стандартом в анализе данных. С этой библиотекой мы сейчас и познакомимся.\n",
    "\n",
    "Основной объект в pandas это DataFrame, представляющий собой таблицу с именованными колонками различных типов, индексом (может быть многоуровневым). DataFrame можно создавать, считывая таблицу из файла или задавая вручную из других объектов.\n",
    "\n",
    "В этой части потребуется выполнить несколько небольших заданий. Можно пойти двумя путями: сначала изучить материалы, а потом приступить к заданиям, или же разбираться \"по ходу\". Выбирайте сами.\n",
    "\n",
    "Материалы:\n",
    "1. [Pandas за 10 минут из официального руководства](http://pandas.pydata.org/pandas-docs/stable/10min.html)\n",
    "2. [Документация](http://pandas.pydata.org/pandas-docs/stable/index.html) (стоит обращаться, если не понятно, как вызывать конкретный метод)\n",
    "3. [Примеры использования функционала](http://nbviewer.jupyter.org/github/justmarkham/pandas-videos/blob/master/pandas.ipynb)\n",
    "\n",
    "Многие из заданий можно выполнить несколькими способами. Не существуют единственно верного, но попробуйте максимально задействовать арсенал pandas и ориентируйтесь на простоту и понятность вашего кода. Мы не будем подсказывать, что нужно использовать для решения конкретной задачи, попробуйте находить необходимый функционал сами (название метода чаще всего очевидно). В помощь вам документация, поиск и stackoverflow."
   ]
  },
  {
   "cell_type": "code",
   "execution_count": 2,
   "metadata": {},
   "outputs": [
    {
     "name": "stdout",
     "output_type": "stream",
     "text": [
      "Populating the interactive namespace from numpy and matplotlib\n"
     ]
    }
   ],
   "source": [
    "%pylab inline  \n",
    "import pandas as pd"
   ]
  },
  {
   "cell_type": "markdown",
   "metadata": {},
   "source": [
    "Данные можно скачать [отсюда](https://www.dropbox.com/s/5qq94wzmbw4e54r/data.csv?dl=0)."
   ]
  },
  {
   "cell_type": "markdown",
   "metadata": {},
   "source": [
    "#### 1. [0.5 баллов] Откройте файл с таблицей (не забудьте про её формат). Выведите последние 10 строк.\n",
    "\n",
    "Посмотрите на данные и скажите, что они из себя представляют, сколько в таблице строк, какие столбцы?"
   ]
  },
  {
   "cell_type": "code",
   "execution_count": 9,
   "metadata": {},
   "outputs": [
    {
     "name": "stdout",
     "output_type": "stream",
     "text": [
      "      order_id  quantity            item_name  \\\n",
      "4612      1831         1        Carnitas Bowl   \n",
      "4613      1831         1                Chips   \n",
      "4614      1831         1        Bottled Water   \n",
      "4615      1832         1   Chicken Soft Tacos   \n",
      "4616      1832         1  Chips and Guacamole   \n",
      "4617      1833         1        Steak Burrito   \n",
      "4618      1833         1        Steak Burrito   \n",
      "4619      1834         1   Chicken Salad Bowl   \n",
      "4620      1834         1   Chicken Salad Bowl   \n",
      "4621      1834         1   Chicken Salad Bowl   \n",
      "\n",
      "                                     choice_description item_price  \n",
      "4612  [Fresh Tomato Salsa, [Fajita Vegetables, Rice,...     $9.25   \n",
      "4613                                                NaN     $2.15   \n",
      "4614                                                NaN     $1.50   \n",
      "4615   [Fresh Tomato Salsa, [Rice, Cheese, Sour Cream]]     $8.75   \n",
      "4616                                                NaN     $4.45   \n",
      "4617  [Fresh Tomato Salsa, [Rice, Black Beans, Sour ...    $11.75   \n",
      "4618  [Fresh Tomato Salsa, [Rice, Sour Cream, Cheese...    $11.75   \n",
      "4619  [Fresh Tomato Salsa, [Fajita Vegetables, Pinto...    $11.25   \n",
      "4620  [Fresh Tomato Salsa, [Fajita Vegetables, Lettu...     $8.75   \n",
      "4621  [Fresh Tomato Salsa, [Fajita Vegetables, Pinto...     $8.75   \n"
     ]
    }
   ],
   "source": [
    "file = \"data.csv\"\n",
    "bill = pd.read_csv(file)\n",
    "print(bill[-10:])\n",
    "#ЛУЧШЕ КАК СНИЗУ:\n",
    "#bill.tail(n=10)"
   ]
  },
  {
   "cell_type": "code",
   "execution_count": 1544,
   "metadata": {},
   "outputs": [
    {
     "data": {
      "text/plain": [
       "Index(['order_id', 'quantity', 'item_name', 'choice_description',\n",
       "       'item_price'],\n",
       "      dtype='object')"
      ]
     },
     "execution_count": 1544,
     "metadata": {},
     "output_type": "execute_result"
    }
   ],
   "source": [
    "bill.columns"
   ]
  },
  {
   "cell_type": "code",
   "execution_count": 1545,
   "metadata": {},
   "outputs": [
    {
     "data": {
      "text/plain": [
       "RangeIndex(start=0, stop=4622, step=1)"
      ]
     },
     "execution_count": 1545,
     "metadata": {},
     "output_type": "execute_result"
    }
   ],
   "source": [
    "bill.index"
   ]
  },
  {
   "cell_type": "markdown",
   "metadata": {},
   "source": [
    "Таблица представляет собой список, состоящий из блюд и их цен. Скорее всего, таблица является множеством заказов в каком-то заведении. В таблице 4622 строки и 5 столбцов (№заказа, количество элементов в заказе, наименование блюда, описание блюда и его цена)"
   ]
  },
  {
   "cell_type": "markdown",
   "metadata": {},
   "source": [
    "#### 2. [0.25 баллов] Ответьте на вопросы:\n",
    "1. Сколько заказов попало в выборку?\n",
    "2. Сколько уникальных категорий товара было куплено? (item_name)"
   ]
  },
  {
   "cell_type": "markdown",
   "metadata": {},
   "source": [
    "1. В выборку попало 1834 заказа:"
   ]
  },
  {
   "cell_type": "code",
   "execution_count": 1546,
   "metadata": {},
   "outputs": [
    {
     "data": {
      "text/plain": [
       "1834"
      ]
     },
     "execution_count": 1546,
     "metadata": {},
     "output_type": "execute_result"
    }
   ],
   "source": [
    "len(bill['order_id'].value_counts())"
   ]
  },
  {
   "cell_type": "markdown",
   "metadata": {},
   "source": [
    "2. Было куплено 50 уникальных категорий товара:"
   ]
  },
  {
   "cell_type": "code",
   "execution_count": 1547,
   "metadata": {},
   "outputs": [
    {
     "data": {
      "text/plain": [
       "50"
      ]
     },
     "execution_count": 1547,
     "metadata": {},
     "output_type": "execute_result"
    }
   ],
   "source": [
    "len(bill['item_name'].value_counts())"
   ]
  },
  {
   "cell_type": "markdown",
   "metadata": {},
   "source": [
    "#### 3. [0.25 баллов] Есть ли в данных пропуски? В каких колонках? "
   ]
  },
  {
   "cell_type": "markdown",
   "metadata": {},
   "source": [
    "#### Пропуски в данных есть:"
   ]
  },
  {
   "cell_type": "code",
   "execution_count": 1548,
   "metadata": {},
   "outputs": [
    {
     "data": {
      "text/plain": [
       "True"
      ]
     },
     "execution_count": 1548,
     "metadata": {},
     "output_type": "execute_result"
    }
   ],
   "source": [
    "any(pd.isna(bill))"
   ]
  },
  {
   "cell_type": "markdown",
   "metadata": {},
   "source": [
    "#### Пропуски есть только в колонке choice_description:"
   ]
  },
  {
   "cell_type": "code",
   "execution_count": 1549,
   "metadata": {},
   "outputs": [
    {
     "name": "stdout",
     "output_type": "stream",
     "text": [
      "order_id : 0 misses\n",
      "quantity : 0 misses\n",
      "item_name : 0 misses\n",
      "choice_description : 1246 misses\n",
      "item_price : 0 misses\n"
     ]
    }
   ],
   "source": [
    "for i in bill.columns:\n",
    "    print(\"%s : %s misses\" % (i, sum(pd.isna(bill[i]))))"
   ]
  },
  {
   "cell_type": "markdown",
   "metadata": {},
   "source": [
    "Заполните пропуски пустой строкой для строковых колонок и нулём для числовых."
   ]
  },
  {
   "cell_type": "code",
   "execution_count": 1550,
   "metadata": {},
   "outputs": [],
   "source": [
    "bill['choice_description'] = bill['choice_description'].fillna('')"
   ]
  },
  {
   "cell_type": "code",
   "execution_count": 1551,
   "metadata": {},
   "outputs": [
    {
     "name": "stdout",
     "output_type": "stream",
     "text": [
      "order_id : 0 misses\n",
      "quantity : 0 misses\n",
      "item_name : 0 misses\n",
      "choice_description : 0 misses\n",
      "item_price : 0 misses\n"
     ]
    }
   ],
   "source": [
    "for i in bill.columns:\n",
    "    print(\"%s : %s misses\" % (i, sum(pd.isna(bill[i]))))"
   ]
  },
  {
   "cell_type": "markdown",
   "metadata": {},
   "source": [
    "#### 4. [0.5 баллов] Посмотрите внимательнее на колонку с ценой товара. Какого она типа? Создайте новую колонку так, чтобы в ней цена была числом.\n",
    "\n",
    "Для этого попробуйте применить функцию-преобразование к каждой строке вашей таблицы (для этого есть соответствующая функция)."
   ]
  },
  {
   "cell_type": "markdown",
   "metadata": {},
   "source": [
    "#### Цена имеет тип object. Пробовал изменить при помощи apply, но не сообразил, как применить функцию не ко всей строке, а только к столбцу цен"
   ]
  },
  {
   "cell_type": "code",
   "execution_count": 1552,
   "metadata": {},
   "outputs": [
    {
     "data": {
      "text/plain": [
       "'3.39 '"
      ]
     },
     "execution_count": 1552,
     "metadata": {},
     "output_type": "execute_result"
    }
   ],
   "source": [
    "bill[\"item_price\"][1][1:]"
   ]
  },
  {
   "cell_type": "code",
   "execution_count": 1553,
   "metadata": {},
   "outputs": [],
   "source": [
    "bill['numeric_item_price'] = pd.Series(pd.to_numeric(bill['item_price'][i][1:]) for i in bill.index)"
   ]
  },
  {
   "cell_type": "markdown",
   "metadata": {},
   "source": [
    "Использовал пример кода из этого [источника](http://qaru.site/questions/18059/adding-new-column-to-existing-dataframe-in-python-pandas) для индексации и [документацию по to_numeric](https://pandas.pydata.org/pandas-docs/stable/generated/pandas.to_numeric.html)"
   ]
  },
  {
   "cell_type": "markdown",
   "metadata": {},
   "source": [
    "#### Теперь в таблице есть столбец стоимости товара с вещественными значениями:"
   ]
  },
  {
   "cell_type": "code",
   "execution_count": 1554,
   "metadata": {},
   "outputs": [
    {
     "data": {
      "text/plain": [
       "0        2.39\n",
       "1        3.39\n",
       "2        3.39\n",
       "3        2.39\n",
       "4       16.98\n",
       "5       10.98\n",
       "6        1.69\n",
       "7       11.75\n",
       "8        9.25\n",
       "9        9.25\n",
       "10       4.45\n",
       "11       8.75\n",
       "12       8.75\n",
       "13      11.25\n",
       "14       4.45\n",
       "15       2.39\n",
       "16       8.49\n",
       "17       8.49\n",
       "18       2.18\n",
       "19       8.75\n",
       "20       4.45\n",
       "21       8.99\n",
       "22       3.39\n",
       "23      10.98\n",
       "24       3.39\n",
       "25       2.39\n",
       "26       8.49\n",
       "27       8.99\n",
       "28       1.09\n",
       "29       8.49\n",
       "        ...  \n",
       "4592    11.75\n",
       "4593    11.75\n",
       "4594    11.75\n",
       "4595     8.75\n",
       "4596     4.45\n",
       "4597     1.25\n",
       "4598     1.50\n",
       "4599     8.75\n",
       "4600     4.45\n",
       "4601     1.25\n",
       "4602     9.25\n",
       "4603     9.25\n",
       "4604     8.75\n",
       "4605     4.45\n",
       "4606     1.25\n",
       "4607    11.75\n",
       "4608    11.25\n",
       "4609     1.25\n",
       "4610    11.75\n",
       "4611    11.25\n",
       "4612     9.25\n",
       "4613     2.15\n",
       "4614     1.50\n",
       "4615     8.75\n",
       "4616     4.45\n",
       "4617    11.75\n",
       "4618    11.75\n",
       "4619    11.25\n",
       "4620     8.75\n",
       "4621     8.75\n",
       "Name: numeric_item_price, Length: 4622, dtype: float64"
      ]
     },
     "execution_count": 1554,
     "metadata": {},
     "output_type": "execute_result"
    }
   ],
   "source": [
    "bill['numeric_item_price']"
   ]
  },
  {
   "cell_type": "markdown",
   "metadata": {},
   "source": [
    "Какая средняя/минимальная/максимальная цена у товара? "
   ]
  },
  {
   "cell_type": "markdown",
   "metadata": {},
   "source": [
    "#### Видимо, предполагалось узнать максимальную среди цен товаров и т.п."
   ]
  },
  {
   "cell_type": "code",
   "execution_count": 1555,
   "metadata": {},
   "outputs": [
    {
     "name": "stdout",
     "output_type": "stream",
     "text": [
      "Средняя цена равна 7.464336\n"
     ]
    }
   ],
   "source": [
    "print('Средняя цена равна %f' %mean(bill['numeric_item_price']))"
   ]
  },
  {
   "cell_type": "code",
   "execution_count": 1556,
   "metadata": {},
   "outputs": [
    {
     "name": "stdout",
     "output_type": "stream",
     "text": [
      "Минимальная цена равна 1.090000\n"
     ]
    }
   ],
   "source": [
    "print('Минимальная цена равна %f' %min(bill['numeric_item_price']))"
   ]
  },
  {
   "cell_type": "code",
   "execution_count": 1557,
   "metadata": {},
   "outputs": [
    {
     "name": "stdout",
     "output_type": "stream",
     "text": [
      "Максимальная цена равна 44.250000\n"
     ]
    }
   ],
   "source": [
    "print('Максимальная цена равна %f' %max(bill['numeric_item_price']))"
   ]
  },
  {
   "cell_type": "markdown",
   "metadata": {},
   "source": [
    "Удалите старую колонку с ценой."
   ]
  },
  {
   "cell_type": "code",
   "execution_count": 1558,
   "metadata": {},
   "outputs": [],
   "source": [
    "del bill['item_price']"
   ]
  },
  {
   "cell_type": "markdown",
   "metadata": {},
   "source": [
    "#### 5. [0.25 баллов] Какие 5 товаров были самыми дешёвыми и самыми дорогими? (по choice_description)\n",
    "\n",
    "Для этого будет удобно избавиться от дубликатов и отсортировать товары. Не забудьте про количество товара."
   ]
  },
  {
   "cell_type": "markdown",
   "metadata": {},
   "source": [
    "#### Для решения этого пункта использовались следующие ссылки:\n",
    "[вопрос-ответ](https://code.i-harness.com/ru/q/beb1fa),\n",
    "[док1](https://pandas.pydata.org/pandas-docs/stable/generated/pandas.DataFrame.drop_duplicates.html),\n",
    "[док2](https://pandas.pydata.org/pandas-docs/stable/generated/pandas.DataFrame.sort_values.html),\n",
    "[док3](https://pandas.pydata.org/pandas-docs/stable/generated/pandas.DataFrame.sort_index.html).\n",
    "Также возникшую проблему с индексацией решил на основе [следующей документации](http://pandas.pydata.org/pandas-docs/stable/indexing.html#indexing-view-versus-copy)"
   ]
  },
  {
   "cell_type": "code",
   "execution_count": 1559,
   "metadata": {},
   "outputs": [
    {
     "data": {
      "text/html": [
       "<div>\n",
       "<style scoped>\n",
       "    .dataframe tbody tr th:only-of-type {\n",
       "        vertical-align: middle;\n",
       "    }\n",
       "\n",
       "    .dataframe tbody tr th {\n",
       "        vertical-align: top;\n",
       "    }\n",
       "\n",
       "    .dataframe thead th {\n",
       "        text-align: right;\n",
       "    }\n",
       "</style>\n",
       "<table border=\"1\" class=\"dataframe\">\n",
       "  <thead>\n",
       "    <tr style=\"text-align: right;\">\n",
       "      <th></th>\n",
       "      <th>quantity</th>\n",
       "      <th>choice_description</th>\n",
       "      <th>numeric_item_price</th>\n",
       "    </tr>\n",
       "  </thead>\n",
       "  <tbody>\n",
       "    <tr>\n",
       "      <th>1140</th>\n",
       "      <td>1</td>\n",
       "      <td></td>\n",
       "      <td>1.09</td>\n",
       "    </tr>\n",
       "    <tr>\n",
       "      <th>821</th>\n",
       "      <td>1</td>\n",
       "      <td>[Coca Cola]</td>\n",
       "      <td>1.09</td>\n",
       "    </tr>\n",
       "    <tr>\n",
       "      <th>3926</th>\n",
       "      <td>1</td>\n",
       "      <td>[Dr. Pepper]</td>\n",
       "      <td>1.09</td>\n",
       "    </tr>\n",
       "    <tr>\n",
       "      <th>473</th>\n",
       "      <td>1</td>\n",
       "      <td>[Diet Dr. Pepper]</td>\n",
       "      <td>1.09</td>\n",
       "    </tr>\n",
       "    <tr>\n",
       "      <th>2961</th>\n",
       "      <td>1</td>\n",
       "      <td>[Sprite]</td>\n",
       "      <td>1.09</td>\n",
       "    </tr>\n",
       "    <tr>\n",
       "      <th>2544</th>\n",
       "      <td>1</td>\n",
       "      <td>[Diet Coke]</td>\n",
       "      <td>1.09</td>\n",
       "    </tr>\n",
       "    <tr>\n",
       "      <th>3897</th>\n",
       "      <td>1</td>\n",
       "      <td>[Mountain Dew]</td>\n",
       "      <td>1.09</td>\n",
       "    </tr>\n",
       "    <tr>\n",
       "      <th>4150</th>\n",
       "      <td>1</td>\n",
       "      <td>[Coke]</td>\n",
       "      <td>1.25</td>\n",
       "    </tr>\n",
       "    <tr>\n",
       "      <th>4143</th>\n",
       "      <td>1</td>\n",
       "      <td>[Nestea]</td>\n",
       "      <td>1.25</td>\n",
       "    </tr>\n",
       "    <tr>\n",
       "      <th>4139</th>\n",
       "      <td>1</td>\n",
       "      <td>[Lemonade]</td>\n",
       "      <td>1.25</td>\n",
       "    </tr>\n",
       "    <tr>\n",
       "      <th>2838</th>\n",
       "      <td>1</td>\n",
       "      <td>[Peach Orange]</td>\n",
       "      <td>3.39</td>\n",
       "    </tr>\n",
       "    <tr>\n",
       "      <th>1706</th>\n",
       "      <td>1</td>\n",
       "      <td>[Apple]</td>\n",
       "      <td>3.39</td>\n",
       "    </tr>\n",
       "    <tr>\n",
       "      <th>2619</th>\n",
       "      <td>1</td>\n",
       "      <td>[Clementine]</td>\n",
       "      <td>3.39</td>\n",
       "    </tr>\n",
       "    <tr>\n",
       "      <th>3368</th>\n",
       "      <td>1</td>\n",
       "      <td>[Pineapple Orange Banana]</td>\n",
       "      <td>3.39</td>\n",
       "    </tr>\n",
       "    <tr>\n",
       "      <th>1611</th>\n",
       "      <td>1</td>\n",
       "      <td>[Blackberry]</td>\n",
       "      <td>3.39</td>\n",
       "    </tr>\n",
       "    <tr>\n",
       "      <th>2430</th>\n",
       "      <td>1</td>\n",
       "      <td>[Pomegranate Cherry]</td>\n",
       "      <td>3.39</td>\n",
       "    </tr>\n",
       "    <tr>\n",
       "      <th>430</th>\n",
       "      <td>1</td>\n",
       "      <td>[Grapefruit]</td>\n",
       "      <td>3.39</td>\n",
       "    </tr>\n",
       "    <tr>\n",
       "      <th>675</th>\n",
       "      <td>1</td>\n",
       "      <td>[Adobo-Marinated and Grilled Chicken, [Sour Cr...</td>\n",
       "      <td>7.40</td>\n",
       "    </tr>\n",
       "    <tr>\n",
       "      <th>511</th>\n",
       "      <td>1</td>\n",
       "      <td>[Braised Barbacoa, Vegetarian Black Beans, [So...</td>\n",
       "      <td>7.40</td>\n",
       "    </tr>\n",
       "    <tr>\n",
       "      <th>510</th>\n",
       "      <td>1</td>\n",
       "      <td>[Adobo-Marinated and Grilled Chicken, Pinto Be...</td>\n",
       "      <td>7.40</td>\n",
       "    </tr>\n",
       "    <tr>\n",
       "      <th>519</th>\n",
       "      <td>1</td>\n",
       "      <td>[Braised Barbacoa, Pinto Beans, [Sour Cream, S...</td>\n",
       "      <td>7.40</td>\n",
       "    </tr>\n",
       "    <tr>\n",
       "      <th>673</th>\n",
       "      <td>1</td>\n",
       "      <td>[Adobo-Marinated and Grilled Steak, [Sour Crea...</td>\n",
       "      <td>7.40</td>\n",
       "    </tr>\n",
       "    <tr>\n",
       "      <th>1415</th>\n",
       "      <td>1</td>\n",
       "      <td>[White Rice, Adobo-Marinated and Grilled Chick...</td>\n",
       "      <td>7.40</td>\n",
       "    </tr>\n",
       "    <tr>\n",
       "      <th>520</th>\n",
       "      <td>1</td>\n",
       "      <td>[Adobo-Marinated and Grilled Steak]</td>\n",
       "      <td>7.40</td>\n",
       "    </tr>\n",
       "    <tr>\n",
       "      <th>1414</th>\n",
       "      <td>1</td>\n",
       "      <td>[Brown Rice, Adobo-Marinated and Grilled Chick...</td>\n",
       "      <td>7.40</td>\n",
       "    </tr>\n",
       "    <tr>\n",
       "      <th>760</th>\n",
       "      <td>1</td>\n",
       "      <td>[White Rice, Adobo-Marinated and Grilled Steak...</td>\n",
       "      <td>7.40</td>\n",
       "    </tr>\n",
       "    <tr>\n",
       "      <th>521</th>\n",
       "      <td>1</td>\n",
       "      <td>[Adobo-Marinated and Grilled Chicken]</td>\n",
       "      <td>7.40</td>\n",
       "    </tr>\n",
       "    <tr>\n",
       "      <th>759</th>\n",
       "      <td>1</td>\n",
       "      <td>[White Rice, Adobo-Marinated and Grilled Steak...</td>\n",
       "      <td>7.40</td>\n",
       "    </tr>\n",
       "    <tr>\n",
       "      <th>3101</th>\n",
       "      <td>1</td>\n",
       "      <td>[Fresh Tomato (Mild), [Lettuce, Fajita Veggies...</td>\n",
       "      <td>8.19</td>\n",
       "    </tr>\n",
       "    <tr>\n",
       "      <th>3539</th>\n",
       "      <td>1</td>\n",
       "      <td>[[Lettuce, Fajita Veggies, Rice]]</td>\n",
       "      <td>8.19</td>\n",
       "    </tr>\n",
       "    <tr>\n",
       "      <th>...</th>\n",
       "      <td>...</td>\n",
       "      <td>...</td>\n",
       "      <td>...</td>\n",
       "    </tr>\n",
       "    <tr>\n",
       "      <th>3335</th>\n",
       "      <td>1</td>\n",
       "      <td>[Fresh Tomato Salsa, [Cheese, Black Beans, Pin...</td>\n",
       "      <td>11.75</td>\n",
       "    </tr>\n",
       "    <tr>\n",
       "      <th>1617</th>\n",
       "      <td>1</td>\n",
       "      <td>[Tomatillo Green Chili Salsa, [Sour Cream, Che...</td>\n",
       "      <td>11.75</td>\n",
       "    </tr>\n",
       "    <tr>\n",
       "      <th>1715</th>\n",
       "      <td>1</td>\n",
       "      <td>[Fresh Tomato Salsa, [Rice, Pinto Beans, Guaca...</td>\n",
       "      <td>11.75</td>\n",
       "    </tr>\n",
       "    <tr>\n",
       "      <th>1689</th>\n",
       "      <td>1</td>\n",
       "      <td>[Fresh Tomato Salsa, [Sour Cream, Guacamole, R...</td>\n",
       "      <td>11.75</td>\n",
       "    </tr>\n",
       "    <tr>\n",
       "      <th>3548</th>\n",
       "      <td>1</td>\n",
       "      <td>[Tomatillo Red Chili Salsa, [Fajita Vegetables...</td>\n",
       "      <td>11.75</td>\n",
       "    </tr>\n",
       "    <tr>\n",
       "      <th>1231</th>\n",
       "      <td>1</td>\n",
       "      <td>[Roasted Chili Corn Salsa, [Black Beans, Chees...</td>\n",
       "      <td>11.75</td>\n",
       "    </tr>\n",
       "    <tr>\n",
       "      <th>3197</th>\n",
       "      <td>1</td>\n",
       "      <td>[Fresh Tomato Salsa, [Guacamole, Lettuce, Sour...</td>\n",
       "      <td>11.75</td>\n",
       "    </tr>\n",
       "    <tr>\n",
       "      <th>1309</th>\n",
       "      <td>1</td>\n",
       "      <td>[Tomatillo Red Chili Salsa, [Fajita Vegetables...</td>\n",
       "      <td>11.75</td>\n",
       "    </tr>\n",
       "    <tr>\n",
       "      <th>4147</th>\n",
       "      <td>1</td>\n",
       "      <td>[Roasted Chili Corn Salsa, [Fajita Vegetables,...</td>\n",
       "      <td>11.75</td>\n",
       "    </tr>\n",
       "    <tr>\n",
       "      <th>2059</th>\n",
       "      <td>1</td>\n",
       "      <td>[Tomatillo Green Chili Salsa, [Fajita Vegetabl...</td>\n",
       "      <td>11.75</td>\n",
       "    </tr>\n",
       "    <tr>\n",
       "      <th>503</th>\n",
       "      <td>1</td>\n",
       "      <td>[Roasted Chili Corn Salsa, [Rice, Black Beans,...</td>\n",
       "      <td>11.75</td>\n",
       "    </tr>\n",
       "    <tr>\n",
       "      <th>727</th>\n",
       "      <td>1</td>\n",
       "      <td>[Roasted Chili Corn Salsa, [Fajita Vegetables,...</td>\n",
       "      <td>11.75</td>\n",
       "    </tr>\n",
       "    <tr>\n",
       "      <th>4141</th>\n",
       "      <td>1</td>\n",
       "      <td>[Tomatillo Green Chili Salsa, [Fajita Vegetabl...</td>\n",
       "      <td>11.75</td>\n",
       "    </tr>\n",
       "    <tr>\n",
       "      <th>4046</th>\n",
       "      <td>1</td>\n",
       "      <td>[Tomatillo Green Chili Salsa, [Fajita Vegetabl...</td>\n",
       "      <td>11.75</td>\n",
       "    </tr>\n",
       "    <tr>\n",
       "      <th>573</th>\n",
       "      <td>1</td>\n",
       "      <td>[Roasted Chili Corn Salsa, [Rice, Fajita Veget...</td>\n",
       "      <td>11.75</td>\n",
       "    </tr>\n",
       "    <tr>\n",
       "      <th>572</th>\n",
       "      <td>1</td>\n",
       "      <td>[Roasted Chili Corn Salsa, [Fajita Vegetables,...</td>\n",
       "      <td>11.75</td>\n",
       "    </tr>\n",
       "    <tr>\n",
       "      <th>2122</th>\n",
       "      <td>1</td>\n",
       "      <td>[Roasted Chili Corn Salsa, [Rice, Cheese, Guac...</td>\n",
       "      <td>11.75</td>\n",
       "    </tr>\n",
       "    <tr>\n",
       "      <th>602</th>\n",
       "      <td>1</td>\n",
       "      <td>[Roasted Chili Corn Salsa, [Rice, Pinto Beans,...</td>\n",
       "      <td>11.75</td>\n",
       "    </tr>\n",
       "    <tr>\n",
       "      <th>2089</th>\n",
       "      <td>1</td>\n",
       "      <td>[Tomatillo Red Chili Salsa, [Black Beans, Pint...</td>\n",
       "      <td>11.75</td>\n",
       "    </tr>\n",
       "    <tr>\n",
       "      <th>2073</th>\n",
       "      <td>1</td>\n",
       "      <td>[Tomatillo Green Chili Salsa, [Fajita Vegetabl...</td>\n",
       "      <td>11.75</td>\n",
       "    </tr>\n",
       "    <tr>\n",
       "      <th>2072</th>\n",
       "      <td>1</td>\n",
       "      <td>[Tomatillo Green Chili Salsa, [Fajita Vegetabl...</td>\n",
       "      <td>11.75</td>\n",
       "    </tr>\n",
       "    <tr>\n",
       "      <th>2894</th>\n",
       "      <td>1</td>\n",
       "      <td>[Fresh Tomato Salsa, [Sour Cream, Rice, Guacam...</td>\n",
       "      <td>11.75</td>\n",
       "    </tr>\n",
       "    <tr>\n",
       "      <th>2892</th>\n",
       "      <td>1</td>\n",
       "      <td>[Roasted Chili Corn Salsa, [Pinto Beans, Rice,...</td>\n",
       "      <td>11.75</td>\n",
       "    </tr>\n",
       "    <tr>\n",
       "      <th>1963</th>\n",
       "      <td>1</td>\n",
       "      <td>[Fresh Tomato Salsa, [Sour Cream, Guacamole]]</td>\n",
       "      <td>11.75</td>\n",
       "    </tr>\n",
       "    <tr>\n",
       "      <th>1571</th>\n",
       "      <td>1</td>\n",
       "      <td>[Fresh Tomato Salsa, [Fajita Vegetables, Sour ...</td>\n",
       "      <td>11.89</td>\n",
       "    </tr>\n",
       "    <tr>\n",
       "      <th>606</th>\n",
       "      <td>1</td>\n",
       "      <td>[Fresh Tomato Salsa, [Pinto Beans, Cheese, Gua...</td>\n",
       "      <td>11.89</td>\n",
       "    </tr>\n",
       "    <tr>\n",
       "      <th>4239</th>\n",
       "      <td>1</td>\n",
       "      <td>[Tomatillo Green Chili Salsa, [Black Beans, Ch...</td>\n",
       "      <td>11.89</td>\n",
       "    </tr>\n",
       "    <tr>\n",
       "      <th>1159</th>\n",
       "      <td>1</td>\n",
       "      <td>[Fresh Tomato Salsa, [Rice, Fajita Vegetables,...</td>\n",
       "      <td>11.89</td>\n",
       "    </tr>\n",
       "    <tr>\n",
       "      <th>1229</th>\n",
       "      <td>1</td>\n",
       "      <td>[Fresh Tomato Salsa, [Rice, Fajita Vegetables,...</td>\n",
       "      <td>11.89</td>\n",
       "    </tr>\n",
       "    <tr>\n",
       "      <th>3493</th>\n",
       "      <td>1</td>\n",
       "      <td>[Roasted Chili Corn Salsa, [Fajita Vegetables,...</td>\n",
       "      <td>11.89</td>\n",
       "    </tr>\n",
       "  </tbody>\n",
       "</table>\n",
       "<p>1008 rows × 3 columns</p>\n",
       "</div>"
      ],
      "text/plain": [
       "      quantity                                 choice_description  \\\n",
       "1140         1                                                      \n",
       "821          1                                        [Coca Cola]   \n",
       "3926         1                                       [Dr. Pepper]   \n",
       "473          1                                  [Diet Dr. Pepper]   \n",
       "2961         1                                           [Sprite]   \n",
       "2544         1                                        [Diet Coke]   \n",
       "3897         1                                     [Mountain Dew]   \n",
       "4150         1                                             [Coke]   \n",
       "4143         1                                           [Nestea]   \n",
       "4139         1                                         [Lemonade]   \n",
       "2838         1                                     [Peach Orange]   \n",
       "1706         1                                            [Apple]   \n",
       "2619         1                                       [Clementine]   \n",
       "3368         1                          [Pineapple Orange Banana]   \n",
       "1611         1                                       [Blackberry]   \n",
       "2430         1                               [Pomegranate Cherry]   \n",
       "430          1                                       [Grapefruit]   \n",
       "675          1  [Adobo-Marinated and Grilled Chicken, [Sour Cr...   \n",
       "511          1  [Braised Barbacoa, Vegetarian Black Beans, [So...   \n",
       "510          1  [Adobo-Marinated and Grilled Chicken, Pinto Be...   \n",
       "519          1  [Braised Barbacoa, Pinto Beans, [Sour Cream, S...   \n",
       "673          1  [Adobo-Marinated and Grilled Steak, [Sour Crea...   \n",
       "1415         1  [White Rice, Adobo-Marinated and Grilled Chick...   \n",
       "520          1                [Adobo-Marinated and Grilled Steak]   \n",
       "1414         1  [Brown Rice, Adobo-Marinated and Grilled Chick...   \n",
       "760          1  [White Rice, Adobo-Marinated and Grilled Steak...   \n",
       "521          1              [Adobo-Marinated and Grilled Chicken]   \n",
       "759          1  [White Rice, Adobo-Marinated and Grilled Steak...   \n",
       "3101         1  [Fresh Tomato (Mild), [Lettuce, Fajita Veggies...   \n",
       "3539         1                  [[Lettuce, Fajita Veggies, Rice]]   \n",
       "...        ...                                                ...   \n",
       "3335         1  [Fresh Tomato Salsa, [Cheese, Black Beans, Pin...   \n",
       "1617         1  [Tomatillo Green Chili Salsa, [Sour Cream, Che...   \n",
       "1715         1  [Fresh Tomato Salsa, [Rice, Pinto Beans, Guaca...   \n",
       "1689         1  [Fresh Tomato Salsa, [Sour Cream, Guacamole, R...   \n",
       "3548         1  [Tomatillo Red Chili Salsa, [Fajita Vegetables...   \n",
       "1231         1  [Roasted Chili Corn Salsa, [Black Beans, Chees...   \n",
       "3197         1  [Fresh Tomato Salsa, [Guacamole, Lettuce, Sour...   \n",
       "1309         1  [Tomatillo Red Chili Salsa, [Fajita Vegetables...   \n",
       "4147         1  [Roasted Chili Corn Salsa, [Fajita Vegetables,...   \n",
       "2059         1  [Tomatillo Green Chili Salsa, [Fajita Vegetabl...   \n",
       "503          1  [Roasted Chili Corn Salsa, [Rice, Black Beans,...   \n",
       "727          1  [Roasted Chili Corn Salsa, [Fajita Vegetables,...   \n",
       "4141         1  [Tomatillo Green Chili Salsa, [Fajita Vegetabl...   \n",
       "4046         1  [Tomatillo Green Chili Salsa, [Fajita Vegetabl...   \n",
       "573          1  [Roasted Chili Corn Salsa, [Rice, Fajita Veget...   \n",
       "572          1  [Roasted Chili Corn Salsa, [Fajita Vegetables,...   \n",
       "2122         1  [Roasted Chili Corn Salsa, [Rice, Cheese, Guac...   \n",
       "602          1  [Roasted Chili Corn Salsa, [Rice, Pinto Beans,...   \n",
       "2089         1  [Tomatillo Red Chili Salsa, [Black Beans, Pint...   \n",
       "2073         1  [Tomatillo Green Chili Salsa, [Fajita Vegetabl...   \n",
       "2072         1  [Tomatillo Green Chili Salsa, [Fajita Vegetabl...   \n",
       "2894         1  [Fresh Tomato Salsa, [Sour Cream, Rice, Guacam...   \n",
       "2892         1  [Roasted Chili Corn Salsa, [Pinto Beans, Rice,...   \n",
       "1963         1      [Fresh Tomato Salsa, [Sour Cream, Guacamole]]   \n",
       "1571         1  [Fresh Tomato Salsa, [Fajita Vegetables, Sour ...   \n",
       "606          1  [Fresh Tomato Salsa, [Pinto Beans, Cheese, Gua...   \n",
       "4239         1  [Tomatillo Green Chili Salsa, [Black Beans, Ch...   \n",
       "1159         1  [Fresh Tomato Salsa, [Rice, Fajita Vegetables,...   \n",
       "1229         1  [Fresh Tomato Salsa, [Rice, Fajita Vegetables,...   \n",
       "3493         1  [Roasted Chili Corn Salsa, [Fajita Vegetables,...   \n",
       "\n",
       "      numeric_item_price  \n",
       "1140                1.09  \n",
       "821                 1.09  \n",
       "3926                1.09  \n",
       "473                 1.09  \n",
       "2961                1.09  \n",
       "2544                1.09  \n",
       "3897                1.09  \n",
       "4150                1.25  \n",
       "4143                1.25  \n",
       "4139                1.25  \n",
       "2838                3.39  \n",
       "1706                3.39  \n",
       "2619                3.39  \n",
       "3368                3.39  \n",
       "1611                3.39  \n",
       "2430                3.39  \n",
       "430                 3.39  \n",
       "675                 7.40  \n",
       "511                 7.40  \n",
       "510                 7.40  \n",
       "519                 7.40  \n",
       "673                 7.40  \n",
       "1415                7.40  \n",
       "520                 7.40  \n",
       "1414                7.40  \n",
       "760                 7.40  \n",
       "521                 7.40  \n",
       "759                 7.40  \n",
       "3101                8.19  \n",
       "3539                8.19  \n",
       "...                  ...  \n",
       "3335               11.75  \n",
       "1617               11.75  \n",
       "1715               11.75  \n",
       "1689               11.75  \n",
       "3548               11.75  \n",
       "1231               11.75  \n",
       "3197               11.75  \n",
       "1309               11.75  \n",
       "4147               11.75  \n",
       "2059               11.75  \n",
       "503                11.75  \n",
       "727                11.75  \n",
       "4141               11.75  \n",
       "4046               11.75  \n",
       "573                11.75  \n",
       "572                11.75  \n",
       "2122               11.75  \n",
       "602                11.75  \n",
       "2089               11.75  \n",
       "2073               11.75  \n",
       "2072               11.75  \n",
       "2894               11.75  \n",
       "2892               11.75  \n",
       "1963               11.75  \n",
       "1571               11.89  \n",
       "606                11.89  \n",
       "4239               11.89  \n",
       "1159               11.89  \n",
       "1229               11.89  \n",
       "3493               11.89  \n",
       "\n",
       "[1008 rows x 3 columns]"
      ]
     },
     "execution_count": 1559,
     "metadata": {},
     "output_type": "execute_result"
    }
   ],
   "source": [
    "sorted_bill_without_duplicates = bill.loc[:, ('quantity', 'choice_description', 'numeric_item_price')].\\\n",
    "                                                sort_values('numeric_item_price').\\\n",
    "                                                drop_duplicates('choice_description')\n",
    "sorted_bill_without_duplicates_and_special = \\\n",
    "        sorted_bill_without_duplicates[sorted_bill_without_duplicates['quantity'] == 1]\n",
    "sorted_bill_without_duplicates_and_special"
   ]
  },
  {
   "cell_type": "code",
   "execution_count": 1560,
   "metadata": {},
   "outputs": [
    {
     "name": "stdout",
     "output_type": "stream",
     "text": [
      "5 самых дешёвых товаров - это:\n",
      "\n",
      "Bottled Water   с ценой 1.09 $\n",
      "Canned Soda [Coca Cola]  с ценой 1.09 $\n",
      "Canned Soda [Dr. Pepper]  с ценой 1.09 $\n",
      "Canned Soda [Diet Dr. Pepper]  с ценой 1.09 $\n",
      "Canned Soda [Sprite]  с ценой 1.09 $\n"
     ]
    }
   ],
   "source": [
    "print(\"5 самых дешёвых товаров - это:\\n\")\n",
    "for i in sorted_bill_without_duplicates_and_special[0:5].index:\n",
    "    print(bill.loc[i]['item_name'], bill.loc[i]['choice_description'],\n",
    "          \" с ценой\", bill.loc[i]['numeric_item_price'], '$')"
   ]
  },
  {
   "cell_type": "code",
   "execution_count": 1561,
   "metadata": {},
   "outputs": [
    {
     "name": "stdout",
     "output_type": "stream",
     "text": [
      "5 самых дорогих товаров - это:\n",
      "\n",
      "Steak Salad Bowl [Fresh Tomato Salsa, [Pinto Beans, Cheese, Guacamole, Lettuce]]  с ценой 11.89 $\n",
      "Carnitas Salad Bowl [Tomatillo Green Chili Salsa, [Black Beans, Cheese, Guacamole]]  с ценой 11.89 $\n",
      "Steak Salad Bowl [Fresh Tomato Salsa, [Rice, Fajita Vegetables, Sour Cream, Cheese, Lettuce, Guacamole]]  с ценой 11.89 $\n",
      "Barbacoa Salad Bowl [Fresh Tomato Salsa, [Rice, Fajita Vegetables, Pinto Beans, Black Beans, Sour Cream, Cheese, Lettuce, Guacamole]]  с ценой 11.89 $\n",
      "Steak Salad Bowl [Roasted Chili Corn Salsa, [Fajita Vegetables, Rice, Cheese, Guacamole, Lettuce]]  с ценой 11.89 $\n"
     ]
    }
   ],
   "source": [
    "print(\"5 самых дорогих товаров - это:\\n\")\n",
    "for i in sorted_bill_without_duplicates_and_special[-5:].index:\n",
    "    print(bill.loc[i]['item_name'], bill.loc[i]['choice_description'],\n",
    "          \" с ценой\", bill.loc[i]['numeric_item_price'], '$')"
   ]
  },
  {
   "cell_type": "markdown",
   "metadata": {},
   "source": [
    "#### 6. [0.5 баллов] Сколько раз клиенты покупали больше 1 Chicken Bowl (item_name)?"
   ]
  },
  {
   "cell_type": "code",
   "execution_count": 1562,
   "metadata": {},
   "outputs": [
    {
     "name": "stdout",
     "output_type": "stream",
     "text": [
      "Клиенты покупали больше 1 Chiken Bowl 33 раз(а)\n"
     ]
    }
   ],
   "source": [
    "chicken_bowl = bill[bill['item_name'] == 'Chicken Bowl']\n",
    "print(\"Клиенты покупали больше 1 Chiken Bowl %d раз(а)\" % len(chicken_bowl[chicken_bowl['quantity'] > 1]))"
   ]
  },
  {
   "cell_type": "markdown",
   "metadata": {},
   "source": [
    "#### 7. [0.5 баллов] Какой средний чек у заказа? Сколько в среднем товаров покупают?\n",
    "\n",
    "Если необходимо провести вычисления в терминах заказов, то будет удобно сгруппировать строки по заказам и посчитать необходимые статистики."
   ]
  },
  {
   "cell_type": "code",
   "execution_count": 1563,
   "metadata": {},
   "outputs": [
    {
     "name": "stdout",
     "output_type": "stream",
     "text": [
      "Средний чек в данном заведении составляет 18.811$\n"
     ]
    }
   ],
   "source": [
    "print(\"Средний чек в данном заведении составляет %.3f$\" % \n",
    "      mean(bill.groupby('order_id').sum()['numeric_item_price']))"
   ]
  },
  {
   "cell_type": "code",
   "execution_count": 1564,
   "metadata": {},
   "outputs": [
    {
     "name": "stdout",
     "output_type": "stream",
     "text": [
      "В среднем, на 1 заказ приходится 3 товар(а/ов) (значение равно 2.711, взято округление round())\n"
     ]
    }
   ],
   "source": [
    "print(\"В среднем, на 1 заказ приходится %d товар(а/ов) (значение равно %.3f, взято округление round())\" % \n",
    "      (round(mean(bill.groupby('order_id').sum()['quantity'])),\n",
    "       mean(bill.groupby('order_id').sum()['quantity'])))"
   ]
  },
  {
   "cell_type": "markdown",
   "metadata": {},
   "source": [
    "#### 8. [0.25 баллов] Сколько заказов содержали ровно 1 товар?"
   ]
  },
  {
   "cell_type": "code",
   "execution_count": 1565,
   "metadata": {},
   "outputs": [
    {
     "name": "stdout",
     "output_type": "stream",
     "text": [
      "128 заказов содержало ровно 1 товар\n"
     ]
    }
   ],
   "source": [
    "print(\"%d заказов содержало ровно 1 товар\" % sum(bill['order_id'].value_counts() == 1))"
   ]
  },
  {
   "cell_type": "markdown",
   "metadata": {},
   "source": [
    "#### 9. [0.25 баллов] Какая самая популярная категория товара? "
   ]
  },
  {
   "cell_type": "markdown",
   "metadata": {},
   "source": [
    "С помощью данного кода находим количество вхождения наименования в товар и видим, что самой популярной категорией товара является \"Chicken Bowl\" (упоминается в заказах 726 раз):"
   ]
  },
  {
   "cell_type": "code",
   "execution_count": 1566,
   "metadata": {},
   "outputs": [
    {
     "data": {
      "text/plain": [
       "Chicken Bowl                             726\n",
       "Chicken Burrito                          553\n",
       "Chips and Guacamole                      479\n",
       "Steak Burrito                            368\n",
       "Canned Soft Drink                        301\n",
       "Chips                                    211\n",
       "Steak Bowl                               211\n",
       "Bottled Water                            162\n",
       "Chicken Soft Tacos                       115\n",
       "Chicken Salad Bowl                       110\n",
       "Chips and Fresh Tomato Salsa             110\n",
       "Canned Soda                              104\n",
       "Side of Chips                            101\n",
       "Veggie Burrito                            95\n",
       "Barbacoa Burrito                          91\n",
       "Veggie Bowl                               85\n",
       "Carnitas Bowl                             68\n",
       "Barbacoa Bowl                             66\n",
       "Carnitas Burrito                          59\n",
       "Steak Soft Tacos                          55\n",
       "6 Pack Soft Drink                         54\n",
       "Chips and Tomatillo Red Chili Salsa       48\n",
       "Chicken Crispy Tacos                      47\n",
       "Chips and Tomatillo Green Chili Salsa     43\n",
       "Carnitas Soft Tacos                       40\n",
       "Steak Crispy Tacos                        35\n",
       "Chips and Tomatillo-Green Chili Salsa     31\n",
       "Steak Salad Bowl                          29\n",
       "Nantucket Nectar                          27\n",
       "Barbacoa Soft Tacos                       25\n",
       "Chips and Roasted Chili Corn Salsa        22\n",
       "Chips and Tomatillo-Red Chili Salsa       20\n",
       "Izze                                      20\n",
       "Chips and Roasted Chili-Corn Salsa        18\n",
       "Veggie Salad Bowl                         18\n",
       "Barbacoa Crispy Tacos                     11\n",
       "Barbacoa Salad Bowl                       10\n",
       "Chicken Salad                              9\n",
       "Veggie Soft Tacos                          7\n",
       "Carnitas Crispy Tacos                      7\n",
       "Carnitas Salad Bowl                        6\n",
       "Burrito                                    6\n",
       "Veggie Salad                               6\n",
       "Steak Salad                                4\n",
       "Salad                                      2\n",
       "Crispy Tacos                               2\n",
       "Bowl                                       2\n",
       "Chips and Mild Fresh Tomato Salsa          1\n",
       "Carnitas Salad                             1\n",
       "Veggie Crispy Tacos                        1\n",
       "Name: item_name, dtype: int64"
      ]
     },
     "execution_count": 1566,
     "metadata": {},
     "output_type": "execute_result"
    }
   ],
   "source": [
    "bill['item_name'].value_counts()"
   ]
  },
  {
   "cell_type": "markdown",
   "metadata": {},
   "source": [
    "#### 10. [0.5 баллов] Какие виды Burrito существуют? Какой из них чаще всего покупают? Какой из них самый дорогой? "
   ]
  },
  {
   "cell_type": "code",
   "execution_count": 1567,
   "metadata": {},
   "outputs": [
    {
     "name": "stdout",
     "output_type": "stream",
     "text": [
      "Существуют следующие виды Burrito: ['Steak Burrito', 'Chicken Burrito', 'Barbacoa Burrito', 'Carnitas Burrito', 'Veggie Burrito', 'Burrito']\n"
     ]
    }
   ],
   "source": [
    "names_of_burrito = []\n",
    "for i in bill['item_name'].values:\n",
    "    if (\"Burrito\" in i) and (i not in names_of_burrito):\n",
    "        names_of_burrito.append(i)\n",
    "print(\"Существуют следующие виды Burrito:\", names_of_burrito)"
   ]
  },
  {
   "cell_type": "code",
   "execution_count": 1568,
   "metadata": {},
   "outputs": [
    {
     "data": {
      "text/plain": [
       "Chicken Burrito     553\n",
       "Steak Burrito       368\n",
       "Veggie Burrito       95\n",
       "Barbacoa Burrito     91\n",
       "Carnitas Burrito     59\n",
       "Burrito               6\n",
       "Name: item_name, dtype: int64"
      ]
     },
     "execution_count": 1568,
     "metadata": {},
     "output_type": "execute_result"
    }
   ],
   "source": [
    "only_burritoes = bill[bill['item_name'].isin(names_of_burrito)]\n",
    "only_burritoes['item_name'].value_counts()"
   ]
  },
  {
   "cell_type": "markdown",
   "metadata": {},
   "source": [
    "#### Из списка выше видно, что чаще всего покупают \"Chicken Burrito\" (553 упоминания в заказах)"
   ]
  },
  {
   "cell_type": "markdown",
   "metadata": {},
   "source": [
    "Для ответа внизу был использован [следующий ресурс](http://qaru.site/questions/61560/pandas-dataframe-find-row-where-values-for-column-is-maximal)"
   ]
  },
  {
   "cell_type": "code",
   "execution_count": 1569,
   "metadata": {},
   "outputs": [
    {
     "name": "stdout",
     "output_type": "stream",
     "text": [
      "Дороже всего стоит Chicken Burrito  = 35$\n"
     ]
    }
   ],
   "source": [
    "print(\"Дороже всего стоит\", \n",
    "      bill.iloc[only_burritoes['numeric_item_price'].idxmax()]['item_name'], \n",
    "      \" = 35$\")"
   ]
  },
  {
   "cell_type": "markdown",
   "metadata": {
    "collapsed": true
   },
   "source": [
    "#### 11. [0.75 баллов] В каком количестве заказов есть товар, который стоит более 40% от суммы всего чека?\n",
    "\n",
    "Возможно, будет удобно посчитать отдельно средний чек, добавить его в исходные данные и сделать необходимые проверки."
   ]
  },
  {
   "cell_type": "code",
   "execution_count": 1570,
   "metadata": {},
   "outputs": [
    {
     "name": "stdout",
     "output_type": "stream",
     "text": [
      "Количество заказов с товаром, который стоит более 40% от суммы всего чека =  1624\n"
     ]
    }
   ],
   "source": [
    "percent40_sum_of_bills = bill.groupby('order_id').sum()['numeric_item_price']\n",
    "percent40_sum_of_bills *= 0.4\n",
    "amnt_of_bills = 0\n",
    "for i in bill.groupby('order_id')['numeric_item_price']:\n",
    "    if any(i[1] > percent40_sum_of_bills[i[0]]):\n",
    "        amnt_of_bills += 1\n",
    "print(\"Количество заказов с товаром, который стоит более 40% от суммы всего чека = \", amnt_of_bills)"
   ]
  },
  {
   "cell_type": "markdown",
   "metadata": {},
   "source": [
    "#### 12. [0.75 баллов] Предположим, что в данных была ошибка и Diet Coke (choice_description), который стоил $1.25, должен был стоить 1.35. Скорректируйте данные в таблицы и посчитайте, на какой процент больше денег было заработано с этого товара. Не забывайте, что количество товара не всегда равно 1."
   ]
  },
  {
   "cell_type": "markdown",
   "metadata": {},
   "source": [
    "#### Считал, что проанализировал таблицу товаров по описанию задания и увидел, что продукт, о котором шла речь - Canned Soft Drink (item_name) с описанием Diet Coke (см., например, индекс 368 ниже). Это, скорее, упрощение в записи преобразования изначального списка, чем задания:"
   ]
  },
  {
   "cell_type": "code",
   "execution_count": 1571,
   "metadata": {},
   "outputs": [
    {
     "data": {
      "text/html": [
       "<div>\n",
       "<style scoped>\n",
       "    .dataframe tbody tr th:only-of-type {\n",
       "        vertical-align: middle;\n",
       "    }\n",
       "\n",
       "    .dataframe tbody tr th {\n",
       "        vertical-align: top;\n",
       "    }\n",
       "\n",
       "    .dataframe thead th {\n",
       "        text-align: right;\n",
       "    }\n",
       "</style>\n",
       "<table border=\"1\" class=\"dataframe\">\n",
       "  <thead>\n",
       "    <tr style=\"text-align: right;\">\n",
       "      <th></th>\n",
       "      <th>order_id</th>\n",
       "      <th>quantity</th>\n",
       "      <th>item_name</th>\n",
       "      <th>choice_description</th>\n",
       "      <th>numeric_item_price</th>\n",
       "    </tr>\n",
       "  </thead>\n",
       "  <tbody>\n",
       "    <tr>\n",
       "      <th>162</th>\n",
       "      <td>73</td>\n",
       "      <td>2</td>\n",
       "      <td>Canned Soda</td>\n",
       "      <td>[Diet Coke]</td>\n",
       "      <td>2.18</td>\n",
       "    </tr>\n",
       "    <tr>\n",
       "      <th>200</th>\n",
       "      <td>89</td>\n",
       "      <td>1</td>\n",
       "      <td>Canned Soda</td>\n",
       "      <td>[Diet Coke]</td>\n",
       "      <td>1.09</td>\n",
       "    </tr>\n",
       "    <tr>\n",
       "      <th>317</th>\n",
       "      <td>138</td>\n",
       "      <td>1</td>\n",
       "      <td>Canned Soda</td>\n",
       "      <td>[Diet Coke]</td>\n",
       "      <td>1.09</td>\n",
       "    </tr>\n",
       "    <tr>\n",
       "      <th>341</th>\n",
       "      <td>148</td>\n",
       "      <td>1</td>\n",
       "      <td>6 Pack Soft Drink</td>\n",
       "      <td>[Diet Coke]</td>\n",
       "      <td>6.49</td>\n",
       "    </tr>\n",
       "    <tr>\n",
       "      <th>350</th>\n",
       "      <td>150</td>\n",
       "      <td>2</td>\n",
       "      <td>Canned Soda</td>\n",
       "      <td>[Diet Coke]</td>\n",
       "      <td>2.18</td>\n",
       "    </tr>\n",
       "    <tr>\n",
       "      <th>368</th>\n",
       "      <td>159</td>\n",
       "      <td>1</td>\n",
       "      <td>Canned Soft Drink</td>\n",
       "      <td>[Diet Coke]</td>\n",
       "      <td>1.25</td>\n",
       "    </tr>\n",
       "    <tr>\n",
       "      <th>370</th>\n",
       "      <td>160</td>\n",
       "      <td>1</td>\n",
       "      <td>Canned Soda</td>\n",
       "      <td>[Diet Coke]</td>\n",
       "      <td>1.09</td>\n",
       "    </tr>\n",
       "    <tr>\n",
       "      <th>388</th>\n",
       "      <td>168</td>\n",
       "      <td>1</td>\n",
       "      <td>6 Pack Soft Drink</td>\n",
       "      <td>[Diet Coke]</td>\n",
       "      <td>6.49</td>\n",
       "    </tr>\n",
       "    <tr>\n",
       "      <th>417</th>\n",
       "      <td>182</td>\n",
       "      <td>1</td>\n",
       "      <td>6 Pack Soft Drink</td>\n",
       "      <td>[Diet Coke]</td>\n",
       "      <td>6.49</td>\n",
       "    </tr>\n",
       "    <tr>\n",
       "      <th>492</th>\n",
       "      <td>206</td>\n",
       "      <td>2</td>\n",
       "      <td>Canned Soft Drink</td>\n",
       "      <td>[Diet Coke]</td>\n",
       "      <td>2.50</td>\n",
       "    </tr>\n",
       "    <tr>\n",
       "      <th>513</th>\n",
       "      <td>215</td>\n",
       "      <td>1</td>\n",
       "      <td>Canned Soft Drink</td>\n",
       "      <td>[Diet Coke]</td>\n",
       "      <td>1.25</td>\n",
       "    </tr>\n",
       "    <tr>\n",
       "      <th>541</th>\n",
       "      <td>225</td>\n",
       "      <td>1</td>\n",
       "      <td>Canned Soft Drink</td>\n",
       "      <td>[Diet Coke]</td>\n",
       "      <td>1.25</td>\n",
       "    </tr>\n",
       "    <tr>\n",
       "      <th>553</th>\n",
       "      <td>230</td>\n",
       "      <td>1</td>\n",
       "      <td>6 Pack Soft Drink</td>\n",
       "      <td>[Diet Coke]</td>\n",
       "      <td>6.49</td>\n",
       "    </tr>\n",
       "    <tr>\n",
       "      <th>566</th>\n",
       "      <td>233</td>\n",
       "      <td>1</td>\n",
       "      <td>Canned Soft Drink</td>\n",
       "      <td>[Diet Coke]</td>\n",
       "      <td>1.25</td>\n",
       "    </tr>\n",
       "    <tr>\n",
       "      <th>567</th>\n",
       "      <td>233</td>\n",
       "      <td>1</td>\n",
       "      <td>Canned Soft Drink</td>\n",
       "      <td>[Diet Coke]</td>\n",
       "      <td>1.25</td>\n",
       "    </tr>\n",
       "    <tr>\n",
       "      <th>618</th>\n",
       "      <td>254</td>\n",
       "      <td>1</td>\n",
       "      <td>Canned Soft Drink</td>\n",
       "      <td>[Diet Coke]</td>\n",
       "      <td>1.25</td>\n",
       "    </tr>\n",
       "    <tr>\n",
       "      <th>639</th>\n",
       "      <td>264</td>\n",
       "      <td>1</td>\n",
       "      <td>6 Pack Soft Drink</td>\n",
       "      <td>[Diet Coke]</td>\n",
       "      <td>6.49</td>\n",
       "    </tr>\n",
       "    <tr>\n",
       "      <th>689</th>\n",
       "      <td>284</td>\n",
       "      <td>3</td>\n",
       "      <td>Canned Soft Drink</td>\n",
       "      <td>[Diet Coke]</td>\n",
       "      <td>3.75</td>\n",
       "    </tr>\n",
       "    <tr>\n",
       "      <th>695</th>\n",
       "      <td>286</td>\n",
       "      <td>1</td>\n",
       "      <td>Canned Soft Drink</td>\n",
       "      <td>[Diet Coke]</td>\n",
       "      <td>1.25</td>\n",
       "    </tr>\n",
       "    <tr>\n",
       "      <th>716</th>\n",
       "      <td>295</td>\n",
       "      <td>1</td>\n",
       "      <td>Canned Soft Drink</td>\n",
       "      <td>[Diet Coke]</td>\n",
       "      <td>1.25</td>\n",
       "    </tr>\n",
       "    <tr>\n",
       "      <th>779</th>\n",
       "      <td>321</td>\n",
       "      <td>1</td>\n",
       "      <td>Canned Soda</td>\n",
       "      <td>[Diet Coke]</td>\n",
       "      <td>1.09</td>\n",
       "    </tr>\n",
       "    <tr>\n",
       "      <th>788</th>\n",
       "      <td>324</td>\n",
       "      <td>1</td>\n",
       "      <td>Canned Soft Drink</td>\n",
       "      <td>[Diet Coke]</td>\n",
       "      <td>1.25</td>\n",
       "    </tr>\n",
       "    <tr>\n",
       "      <th>870</th>\n",
       "      <td>359</td>\n",
       "      <td>1</td>\n",
       "      <td>Canned Soft Drink</td>\n",
       "      <td>[Diet Coke]</td>\n",
       "      <td>1.25</td>\n",
       "    </tr>\n",
       "    <tr>\n",
       "      <th>884</th>\n",
       "      <td>365</td>\n",
       "      <td>1</td>\n",
       "      <td>Canned Soft Drink</td>\n",
       "      <td>[Diet Coke]</td>\n",
       "      <td>1.25</td>\n",
       "    </tr>\n",
       "    <tr>\n",
       "      <th>963</th>\n",
       "      <td>396</td>\n",
       "      <td>1</td>\n",
       "      <td>Canned Soft Drink</td>\n",
       "      <td>[Diet Coke]</td>\n",
       "      <td>1.25</td>\n",
       "    </tr>\n",
       "    <tr>\n",
       "      <th>987</th>\n",
       "      <td>405</td>\n",
       "      <td>1</td>\n",
       "      <td>Canned Soft Drink</td>\n",
       "      <td>[Diet Coke]</td>\n",
       "      <td>1.25</td>\n",
       "    </tr>\n",
       "    <tr>\n",
       "      <th>989</th>\n",
       "      <td>406</td>\n",
       "      <td>1</td>\n",
       "      <td>Canned Soft Drink</td>\n",
       "      <td>[Diet Coke]</td>\n",
       "      <td>1.25</td>\n",
       "    </tr>\n",
       "    <tr>\n",
       "      <th>998</th>\n",
       "      <td>410</td>\n",
       "      <td>1</td>\n",
       "      <td>Canned Soft Drink</td>\n",
       "      <td>[Diet Coke]</td>\n",
       "      <td>1.25</td>\n",
       "    </tr>\n",
       "    <tr>\n",
       "      <th>1045</th>\n",
       "      <td>430</td>\n",
       "      <td>1</td>\n",
       "      <td>Canned Soft Drink</td>\n",
       "      <td>[Diet Coke]</td>\n",
       "      <td>1.25</td>\n",
       "    </tr>\n",
       "    <tr>\n",
       "      <th>1062</th>\n",
       "      <td>437</td>\n",
       "      <td>1</td>\n",
       "      <td>Canned Soft Drink</td>\n",
       "      <td>[Diet Coke]</td>\n",
       "      <td>1.25</td>\n",
       "    </tr>\n",
       "    <tr>\n",
       "      <th>...</th>\n",
       "      <td>...</td>\n",
       "      <td>...</td>\n",
       "      <td>...</td>\n",
       "      <td>...</td>\n",
       "      <td>...</td>\n",
       "    </tr>\n",
       "    <tr>\n",
       "      <th>3592</th>\n",
       "      <td>1440</td>\n",
       "      <td>2</td>\n",
       "      <td>Canned Soda</td>\n",
       "      <td>[Diet Coke]</td>\n",
       "      <td>2.18</td>\n",
       "    </tr>\n",
       "    <tr>\n",
       "      <th>3609</th>\n",
       "      <td>1446</td>\n",
       "      <td>2</td>\n",
       "      <td>Canned Soft Drink</td>\n",
       "      <td>[Diet Coke]</td>\n",
       "      <td>2.50</td>\n",
       "    </tr>\n",
       "    <tr>\n",
       "      <th>3693</th>\n",
       "      <td>1480</td>\n",
       "      <td>1</td>\n",
       "      <td>6 Pack Soft Drink</td>\n",
       "      <td>[Diet Coke]</td>\n",
       "      <td>6.49</td>\n",
       "    </tr>\n",
       "    <tr>\n",
       "      <th>3699</th>\n",
       "      <td>1482</td>\n",
       "      <td>2</td>\n",
       "      <td>Canned Soft Drink</td>\n",
       "      <td>[Diet Coke]</td>\n",
       "      <td>2.50</td>\n",
       "    </tr>\n",
       "    <tr>\n",
       "      <th>3727</th>\n",
       "      <td>1489</td>\n",
       "      <td>1</td>\n",
       "      <td>Canned Soft Drink</td>\n",
       "      <td>[Diet Coke]</td>\n",
       "      <td>1.25</td>\n",
       "    </tr>\n",
       "    <tr>\n",
       "      <th>3784</th>\n",
       "      <td>1514</td>\n",
       "      <td>1</td>\n",
       "      <td>Canned Soft Drink</td>\n",
       "      <td>[Diet Coke]</td>\n",
       "      <td>1.25</td>\n",
       "    </tr>\n",
       "    <tr>\n",
       "      <th>3789</th>\n",
       "      <td>1517</td>\n",
       "      <td>1</td>\n",
       "      <td>6 Pack Soft Drink</td>\n",
       "      <td>[Diet Coke]</td>\n",
       "      <td>6.49</td>\n",
       "    </tr>\n",
       "    <tr>\n",
       "      <th>3793</th>\n",
       "      <td>1518</td>\n",
       "      <td>1</td>\n",
       "      <td>Canned Soda</td>\n",
       "      <td>[Diet Coke]</td>\n",
       "      <td>1.09</td>\n",
       "    </tr>\n",
       "    <tr>\n",
       "      <th>3875</th>\n",
       "      <td>1554</td>\n",
       "      <td>1</td>\n",
       "      <td>6 Pack Soft Drink</td>\n",
       "      <td>[Diet Coke]</td>\n",
       "      <td>6.49</td>\n",
       "    </tr>\n",
       "    <tr>\n",
       "      <th>3886</th>\n",
       "      <td>1558</td>\n",
       "      <td>1</td>\n",
       "      <td>6 Pack Soft Drink</td>\n",
       "      <td>[Diet Coke]</td>\n",
       "      <td>6.49</td>\n",
       "    </tr>\n",
       "    <tr>\n",
       "      <th>4008</th>\n",
       "      <td>1604</td>\n",
       "      <td>1</td>\n",
       "      <td>Canned Soda</td>\n",
       "      <td>[Diet Coke]</td>\n",
       "      <td>1.09</td>\n",
       "    </tr>\n",
       "    <tr>\n",
       "      <th>4016</th>\n",
       "      <td>1608</td>\n",
       "      <td>2</td>\n",
       "      <td>Canned Soft Drink</td>\n",
       "      <td>[Diet Coke]</td>\n",
       "      <td>2.50</td>\n",
       "    </tr>\n",
       "    <tr>\n",
       "      <th>4043</th>\n",
       "      <td>1618</td>\n",
       "      <td>1</td>\n",
       "      <td>Canned Soft Drink</td>\n",
       "      <td>[Diet Coke]</td>\n",
       "      <td>1.25</td>\n",
       "    </tr>\n",
       "    <tr>\n",
       "      <th>4098</th>\n",
       "      <td>1642</td>\n",
       "      <td>3</td>\n",
       "      <td>Canned Soft Drink</td>\n",
       "      <td>[Diet Coke]</td>\n",
       "      <td>3.75</td>\n",
       "    </tr>\n",
       "    <tr>\n",
       "      <th>4169</th>\n",
       "      <td>1664</td>\n",
       "      <td>1</td>\n",
       "      <td>6 Pack Soft Drink</td>\n",
       "      <td>[Diet Coke]</td>\n",
       "      <td>6.49</td>\n",
       "    </tr>\n",
       "    <tr>\n",
       "      <th>4170</th>\n",
       "      <td>1665</td>\n",
       "      <td>1</td>\n",
       "      <td>Canned Soft Drink</td>\n",
       "      <td>[Diet Coke]</td>\n",
       "      <td>1.25</td>\n",
       "    </tr>\n",
       "    <tr>\n",
       "      <th>4240</th>\n",
       "      <td>1692</td>\n",
       "      <td>1</td>\n",
       "      <td>Canned Soft Drink</td>\n",
       "      <td>[Diet Coke]</td>\n",
       "      <td>1.25</td>\n",
       "    </tr>\n",
       "    <tr>\n",
       "      <th>4276</th>\n",
       "      <td>1705</td>\n",
       "      <td>1</td>\n",
       "      <td>Canned Soft Drink</td>\n",
       "      <td>[Diet Coke]</td>\n",
       "      <td>1.25</td>\n",
       "    </tr>\n",
       "    <tr>\n",
       "      <th>4284</th>\n",
       "      <td>1709</td>\n",
       "      <td>1</td>\n",
       "      <td>Canned Soft Drink</td>\n",
       "      <td>[Diet Coke]</td>\n",
       "      <td>1.25</td>\n",
       "    </tr>\n",
       "    <tr>\n",
       "      <th>4363</th>\n",
       "      <td>1742</td>\n",
       "      <td>1</td>\n",
       "      <td>6 Pack Soft Drink</td>\n",
       "      <td>[Diet Coke]</td>\n",
       "      <td>6.49</td>\n",
       "    </tr>\n",
       "    <tr>\n",
       "      <th>4410</th>\n",
       "      <td>1759</td>\n",
       "      <td>1</td>\n",
       "      <td>Canned Soft Drink</td>\n",
       "      <td>[Diet Coke]</td>\n",
       "      <td>1.25</td>\n",
       "    </tr>\n",
       "    <tr>\n",
       "      <th>4464</th>\n",
       "      <td>1779</td>\n",
       "      <td>1</td>\n",
       "      <td>Canned Soft Drink</td>\n",
       "      <td>[Diet Coke]</td>\n",
       "      <td>1.25</td>\n",
       "    </tr>\n",
       "    <tr>\n",
       "      <th>4480</th>\n",
       "      <td>1785</td>\n",
       "      <td>1</td>\n",
       "      <td>Canned Soft Drink</td>\n",
       "      <td>[Diet Coke]</td>\n",
       "      <td>1.25</td>\n",
       "    </tr>\n",
       "    <tr>\n",
       "      <th>4513</th>\n",
       "      <td>1794</td>\n",
       "      <td>1</td>\n",
       "      <td>Canned Soft Drink</td>\n",
       "      <td>[Diet Coke]</td>\n",
       "      <td>1.25</td>\n",
       "    </tr>\n",
       "    <tr>\n",
       "      <th>4522</th>\n",
       "      <td>1798</td>\n",
       "      <td>1</td>\n",
       "      <td>6 Pack Soft Drink</td>\n",
       "      <td>[Diet Coke]</td>\n",
       "      <td>6.49</td>\n",
       "    </tr>\n",
       "    <tr>\n",
       "      <th>4527</th>\n",
       "      <td>1800</td>\n",
       "      <td>1</td>\n",
       "      <td>6 Pack Soft Drink</td>\n",
       "      <td>[Diet Coke]</td>\n",
       "      <td>6.49</td>\n",
       "    </tr>\n",
       "    <tr>\n",
       "      <th>4545</th>\n",
       "      <td>1806</td>\n",
       "      <td>1</td>\n",
       "      <td>Canned Soft Drink</td>\n",
       "      <td>[Diet Coke]</td>\n",
       "      <td>1.25</td>\n",
       "    </tr>\n",
       "    <tr>\n",
       "      <th>4571</th>\n",
       "      <td>1817</td>\n",
       "      <td>1</td>\n",
       "      <td>Canned Soft Drink</td>\n",
       "      <td>[Diet Coke]</td>\n",
       "      <td>1.25</td>\n",
       "    </tr>\n",
       "    <tr>\n",
       "      <th>4585</th>\n",
       "      <td>1823</td>\n",
       "      <td>1</td>\n",
       "      <td>Canned Soft Drink</td>\n",
       "      <td>[Diet Coke]</td>\n",
       "      <td>1.25</td>\n",
       "    </tr>\n",
       "    <tr>\n",
       "      <th>4601</th>\n",
       "      <td>1827</td>\n",
       "      <td>1</td>\n",
       "      <td>Canned Soft Drink</td>\n",
       "      <td>[Diet Coke]</td>\n",
       "      <td>1.25</td>\n",
       "    </tr>\n",
       "  </tbody>\n",
       "</table>\n",
       "<p>134 rows × 5 columns</p>\n",
       "</div>"
      ],
      "text/plain": [
       "      order_id  quantity          item_name choice_description  \\\n",
       "162         73         2        Canned Soda        [Diet Coke]   \n",
       "200         89         1        Canned Soda        [Diet Coke]   \n",
       "317        138         1        Canned Soda        [Diet Coke]   \n",
       "341        148         1  6 Pack Soft Drink        [Diet Coke]   \n",
       "350        150         2        Canned Soda        [Diet Coke]   \n",
       "368        159         1  Canned Soft Drink        [Diet Coke]   \n",
       "370        160         1        Canned Soda        [Diet Coke]   \n",
       "388        168         1  6 Pack Soft Drink        [Diet Coke]   \n",
       "417        182         1  6 Pack Soft Drink        [Diet Coke]   \n",
       "492        206         2  Canned Soft Drink        [Diet Coke]   \n",
       "513        215         1  Canned Soft Drink        [Diet Coke]   \n",
       "541        225         1  Canned Soft Drink        [Diet Coke]   \n",
       "553        230         1  6 Pack Soft Drink        [Diet Coke]   \n",
       "566        233         1  Canned Soft Drink        [Diet Coke]   \n",
       "567        233         1  Canned Soft Drink        [Diet Coke]   \n",
       "618        254         1  Canned Soft Drink        [Diet Coke]   \n",
       "639        264         1  6 Pack Soft Drink        [Diet Coke]   \n",
       "689        284         3  Canned Soft Drink        [Diet Coke]   \n",
       "695        286         1  Canned Soft Drink        [Diet Coke]   \n",
       "716        295         1  Canned Soft Drink        [Diet Coke]   \n",
       "779        321         1        Canned Soda        [Diet Coke]   \n",
       "788        324         1  Canned Soft Drink        [Diet Coke]   \n",
       "870        359         1  Canned Soft Drink        [Diet Coke]   \n",
       "884        365         1  Canned Soft Drink        [Diet Coke]   \n",
       "963        396         1  Canned Soft Drink        [Diet Coke]   \n",
       "987        405         1  Canned Soft Drink        [Diet Coke]   \n",
       "989        406         1  Canned Soft Drink        [Diet Coke]   \n",
       "998        410         1  Canned Soft Drink        [Diet Coke]   \n",
       "1045       430         1  Canned Soft Drink        [Diet Coke]   \n",
       "1062       437         1  Canned Soft Drink        [Diet Coke]   \n",
       "...        ...       ...                ...                ...   \n",
       "3592      1440         2        Canned Soda        [Diet Coke]   \n",
       "3609      1446         2  Canned Soft Drink        [Diet Coke]   \n",
       "3693      1480         1  6 Pack Soft Drink        [Diet Coke]   \n",
       "3699      1482         2  Canned Soft Drink        [Diet Coke]   \n",
       "3727      1489         1  Canned Soft Drink        [Diet Coke]   \n",
       "3784      1514         1  Canned Soft Drink        [Diet Coke]   \n",
       "3789      1517         1  6 Pack Soft Drink        [Diet Coke]   \n",
       "3793      1518         1        Canned Soda        [Diet Coke]   \n",
       "3875      1554         1  6 Pack Soft Drink        [Diet Coke]   \n",
       "3886      1558         1  6 Pack Soft Drink        [Diet Coke]   \n",
       "4008      1604         1        Canned Soda        [Diet Coke]   \n",
       "4016      1608         2  Canned Soft Drink        [Diet Coke]   \n",
       "4043      1618         1  Canned Soft Drink        [Diet Coke]   \n",
       "4098      1642         3  Canned Soft Drink        [Diet Coke]   \n",
       "4169      1664         1  6 Pack Soft Drink        [Diet Coke]   \n",
       "4170      1665         1  Canned Soft Drink        [Diet Coke]   \n",
       "4240      1692         1  Canned Soft Drink        [Diet Coke]   \n",
       "4276      1705         1  Canned Soft Drink        [Diet Coke]   \n",
       "4284      1709         1  Canned Soft Drink        [Diet Coke]   \n",
       "4363      1742         1  6 Pack Soft Drink        [Diet Coke]   \n",
       "4410      1759         1  Canned Soft Drink        [Diet Coke]   \n",
       "4464      1779         1  Canned Soft Drink        [Diet Coke]   \n",
       "4480      1785         1  Canned Soft Drink        [Diet Coke]   \n",
       "4513      1794         1  Canned Soft Drink        [Diet Coke]   \n",
       "4522      1798         1  6 Pack Soft Drink        [Diet Coke]   \n",
       "4527      1800         1  6 Pack Soft Drink        [Diet Coke]   \n",
       "4545      1806         1  Canned Soft Drink        [Diet Coke]   \n",
       "4571      1817         1  Canned Soft Drink        [Diet Coke]   \n",
       "4585      1823         1  Canned Soft Drink        [Diet Coke]   \n",
       "4601      1827         1  Canned Soft Drink        [Diet Coke]   \n",
       "\n",
       "      numeric_item_price  \n",
       "162                 2.18  \n",
       "200                 1.09  \n",
       "317                 1.09  \n",
       "341                 6.49  \n",
       "350                 2.18  \n",
       "368                 1.25  \n",
       "370                 1.09  \n",
       "388                 6.49  \n",
       "417                 6.49  \n",
       "492                 2.50  \n",
       "513                 1.25  \n",
       "541                 1.25  \n",
       "553                 6.49  \n",
       "566                 1.25  \n",
       "567                 1.25  \n",
       "618                 1.25  \n",
       "639                 6.49  \n",
       "689                 3.75  \n",
       "695                 1.25  \n",
       "716                 1.25  \n",
       "779                 1.09  \n",
       "788                 1.25  \n",
       "870                 1.25  \n",
       "884                 1.25  \n",
       "963                 1.25  \n",
       "987                 1.25  \n",
       "989                 1.25  \n",
       "998                 1.25  \n",
       "1045                1.25  \n",
       "1062                1.25  \n",
       "...                  ...  \n",
       "3592                2.18  \n",
       "3609                2.50  \n",
       "3693                6.49  \n",
       "3699                2.50  \n",
       "3727                1.25  \n",
       "3784                1.25  \n",
       "3789                6.49  \n",
       "3793                1.09  \n",
       "3875                6.49  \n",
       "3886                6.49  \n",
       "4008                1.09  \n",
       "4016                2.50  \n",
       "4043                1.25  \n",
       "4098                3.75  \n",
       "4169                6.49  \n",
       "4170                1.25  \n",
       "4240                1.25  \n",
       "4276                1.25  \n",
       "4284                1.25  \n",
       "4363                6.49  \n",
       "4410                1.25  \n",
       "4464                1.25  \n",
       "4480                1.25  \n",
       "4513                1.25  \n",
       "4522                6.49  \n",
       "4527                6.49  \n",
       "4545                1.25  \n",
       "4571                1.25  \n",
       "4585                1.25  \n",
       "4601                1.25  \n",
       "\n",
       "[134 rows x 5 columns]"
      ]
     },
     "execution_count": 1571,
     "metadata": {},
     "output_type": "execute_result"
    }
   ],
   "source": [
    "bill[bill['choice_description'] == \"[Diet Coke]\"]"
   ]
  },
  {
   "cell_type": "code",
   "execution_count": 1572,
   "metadata": {},
   "outputs": [
    {
     "name": "stdout",
     "output_type": "stream",
     "text": [
      "С этого товара было заработано на 8.0 процентов больше\n"
     ]
    }
   ],
   "source": [
    "diet_coke = bill[bill['choice_description'] == \"[Diet Coke]\"]\n",
    "canned_soft_coke = diet_coke[diet_coke['item_name'] == \"Canned Soft Drink\"]\n",
    "old_sum_for_canned_soft_coke = sum(canned_soft_coke['numeric_item_price'])\n",
    "new_sum_for_canned_soft_coke = sum(np.array(canned_soft_coke['quantity'] * 1.35))\n",
    "print(\"С этого товара было заработано на %.1f процентов больше\" \n",
    "      % (((new_sum_for_canned_soft_coke / old_sum_for_canned_soft_coke) - 1) * 100))\n",
    "#Меняем структуру\n",
    "j = 0\n",
    "for i in canned_soft_coke.index:\n",
    "    bill.loc[i, 'numeric_item_price'] = np.array(canned_soft_coke['quantity'] * 1.35)[j]\n",
    "    j += 1"
   ]
  },
  {
   "cell_type": "markdown",
   "metadata": {},
   "source": [
    "#### 13. [0.75 баллов] Создайте новый DateFrame из матрицы, созданной ниже. Назовите колонки index, column1, column2 и сделайте первую колонку индексом."
   ]
  },
  {
   "cell_type": "markdown",
   "metadata": {},
   "source": [
    "Первое, что пришло в голову:"
   ]
  },
  {
   "cell_type": "code",
   "execution_count": 1573,
   "metadata": {},
   "outputs": [
    {
     "data": {
      "text/html": [
       "<div>\n",
       "<style scoped>\n",
       "    .dataframe tbody tr th:only-of-type {\n",
       "        vertical-align: middle;\n",
       "    }\n",
       "\n",
       "    .dataframe tbody tr th {\n",
       "        vertical-align: top;\n",
       "    }\n",
       "\n",
       "    .dataframe thead th {\n",
       "        text-align: right;\n",
       "    }\n",
       "</style>\n",
       "<table border=\"1\" class=\"dataframe\">\n",
       "  <thead>\n",
       "    <tr style=\"text-align: right;\">\n",
       "      <th></th>\n",
       "      <th>column1</th>\n",
       "      <th>column2</th>\n",
       "    </tr>\n",
       "    <tr>\n",
       "      <th>index</th>\n",
       "      <th></th>\n",
       "      <th></th>\n",
       "    </tr>\n",
       "  </thead>\n",
       "  <tbody>\n",
       "    <tr>\n",
       "      <th>0.576788</th>\n",
       "      <td>0.639025</td>\n",
       "      <td>0.789840</td>\n",
       "    </tr>\n",
       "    <tr>\n",
       "      <th>0.744045</th>\n",
       "      <td>0.302773</td>\n",
       "      <td>0.217023</td>\n",
       "    </tr>\n",
       "    <tr>\n",
       "      <th>0.906510</th>\n",
       "      <td>0.248264</td>\n",
       "      <td>0.791559</td>\n",
       "    </tr>\n",
       "    <tr>\n",
       "      <th>0.670101</th>\n",
       "      <td>0.021037</td>\n",
       "      <td>0.515698</td>\n",
       "    </tr>\n",
       "    <tr>\n",
       "      <th>0.931270</th>\n",
       "      <td>0.057772</td>\n",
       "      <td>0.685304</td>\n",
       "    </tr>\n",
       "    <tr>\n",
       "      <th>0.943200</th>\n",
       "      <td>0.684594</td>\n",
       "      <td>0.367341</td>\n",
       "    </tr>\n",
       "    <tr>\n",
       "      <th>0.436230</th>\n",
       "      <td>0.978682</td>\n",
       "      <td>0.956818</td>\n",
       "    </tr>\n",
       "    <tr>\n",
       "      <th>0.845758</th>\n",
       "      <td>0.092817</td>\n",
       "      <td>0.215033</td>\n",
       "    </tr>\n",
       "    <tr>\n",
       "      <th>0.063671</th>\n",
       "      <td>0.244465</td>\n",
       "      <td>0.296789</td>\n",
       "    </tr>\n",
       "    <tr>\n",
       "      <th>0.381677</th>\n",
       "      <td>0.646865</td>\n",
       "      <td>0.173197</td>\n",
       "    </tr>\n",
       "  </tbody>\n",
       "</table>\n",
       "</div>"
      ],
      "text/plain": [
       "           column1   column2\n",
       "index                       \n",
       "0.576788  0.639025  0.789840\n",
       "0.744045  0.302773  0.217023\n",
       "0.906510  0.248264  0.791559\n",
       "0.670101  0.021037  0.515698\n",
       "0.931270  0.057772  0.685304\n",
       "0.943200  0.684594  0.367341\n",
       "0.436230  0.978682  0.956818\n",
       "0.845758  0.092817  0.215033\n",
       "0.063671  0.244465  0.296789\n",
       "0.381677  0.646865  0.173197"
      ]
     },
     "execution_count": 1573,
     "metadata": {},
     "output_type": "execute_result"
    }
   ],
   "source": [
    "data = np.random.rand(10, 3)\n",
    "new_data_frame = pd.DataFrame(data, columns=['index', 'column1', 'column2'])\n",
    "new_data_frame.index = new_data_frame['index']\n",
    "del new_data_frame['index']\n",
    "new_data_frame"
   ]
  },
  {
   "cell_type": "markdown",
   "metadata": {},
   "source": [
    "Сохраните DataFrame на диск в формате csv без индексов и названий столбцов."
   ]
  },
  {
   "cell_type": "markdown",
   "metadata": {},
   "source": [
    "Воспользовался [документацией](http://pandas.pydata.org/pandas-docs/stable/io.html#io-store-in-csv)"
   ]
  },
  {
   "cell_type": "code",
   "execution_count": 1574,
   "metadata": {},
   "outputs": [],
   "source": [
    "new_data_frame.to_csv(path_or_buf=\"NewDataFrame.csv\", header=False, index=False)"
   ]
  },
  {
   "cell_type": "markdown",
   "metadata": {},
   "source": [
    "## 2. Визуализации и matplotlib"
   ]
  },
  {
   "cell_type": "markdown",
   "metadata": {},
   "source": [
    "При работе с данными часто неудобно делать какие-то выводы, если смотреть на таблицу и числа в частности, поэтому важно уметь визуализировать данные. В этом разделе мы этим и займёмся.\n",
    "\n",
    "У matplotlib, конечно, же есть [документация](https://matplotlib.org/users/index.html) с большим количеством [примеров](https://matplotlib.org/examples/), но для начала достаточно знать про несколько основных типов графиков:\n",
    "- plot — обычный поточечный график, которым можно изображать кривые или отдельные точки;\n",
    "- hist — гистограмма, показывающая распределение некоторой величины;\n",
    "- scatter — график, показывающий взаимосвязь двух величин;\n",
    "- bar — столбцовый график, показывающий взаимосвязь количественной величины от категориальной.\n",
    "\n",
    "В этом задании вы попробуете построить каждый из них. Не менее важно усвоить базовые принципы визуализаций:\n",
    "- на графиках должны быть подписаны оси;\n",
    "- у визуализации должно быть название;\n",
    "- если изображено несколько графиков, то необходима поясняющая легенда;\n",
    "- все линии на графиках должны быть чётко видны (нет похожих цветов или цветов, сливающихся с фоном);\n",
    "- если отображена величина, имеющая очевидный диапазон значений (например, проценты могут быть от 0 до 100), то желательно масштабировать ось на весь диапазон значений (исключением является случай, когда вам необходимо показать малое отличие, которое незаметно в таких масштабах)."
   ]
  },
  {
   "cell_type": "code",
   "execution_count": 1575,
   "metadata": {},
   "outputs": [],
   "source": [
    "%matplotlib inline  \n",
    "import matplotlib.pyplot as plt"
   ]
  },
  {
   "cell_type": "markdown",
   "metadata": {},
   "source": [
    "На самом деле мы уже импортировали matplotlib внутри %pylab inline в начале задания.\n",
    "\n",
    "Работать мы будем с той же выборкой покупкок. Добавим новую колонку с датой покупки."
   ]
  },
  {
   "cell_type": "code",
   "execution_count": 1576,
   "metadata": {},
   "outputs": [],
   "source": [
    "import datetime\n",
    "\n",
    "start = datetime.datetime(2018, 1, 1)\n",
    "end = datetime.datetime(2018, 1, 31)\n",
    "delta_seconds = int((end - start).total_seconds())\n",
    "\n",
    "dates = pd.DataFrame(index=bill.order_id.unique())\n",
    "dates['date'] = [\n",
    "    (start + datetime.timedelta(seconds=random.randint(0, delta_seconds))).strftime('%Y-%m-%d')\n",
    "    for _ in range(bill.order_id.nunique())]\n",
    "\n",
    "# если DataFrame с покупками из прошлого заказа называется не df, замените на ваше название (оно у меня bill) ниже\n",
    "bill['date'] = bill.order_id.map(dates['date'])"
   ]
  },
  {
   "cell_type": "markdown",
   "metadata": {},
   "source": [
    "#### 1. [1 балл] Постройте гистограмму распределения сумм покупок и гистограмму средних цен отдельных видов продуктов item_name. \n",
    "\n",
    "Изображайте на двух соседних графиках. Для этого может быть полезен subplot."
   ]
  },
  {
   "cell_type": "code",
   "execution_count": 1577,
   "metadata": {},
   "outputs": [
    {
     "data": {
      "image/png": "[encoded data removed]",
      "text/plain": [
       "<Figure size 432x288 with 2 Axes>"
      ]
     },
     "metadata": {},
     "output_type": "display_data"
    }
   ],
   "source": [
    "n1_bins = 50\n",
    "amounts_of_bills = list(bill.groupby('order_id').sum()['numeric_item_price'])\n",
    "\n",
    "average_sum_of_products = list(bill.groupby('item_name').mean()['numeric_item_price'])\n",
    "\n",
    "plt.subplot(2, 1, 1)\n",
    "plt.hist(amounts_of_bills, bins=n1_bins)\n",
    "plt.xlabel('Sum of bills($)', fontsize=14)\n",
    "plt.ylabel('Amount of orders', fontsize=14)\n",
    "plt.yscale('symlog')\n",
    "plt.title(\"Distribution of order's sum\", fontsize=14, weight='bold')\n",
    "\n",
    "plt.subplot(2, 1, 2)\n",
    "plt.hist(average_sum_of_products, bins=n1_bins)\n",
    "plt.xlabel('Average sum of product($)', fontsize=14)\n",
    "plt.ylabel('Amount of products', fontsize=14)\n",
    "plt.title(\"Distribution of average_sum_of_products\", fontsize=14, weight='bold')\n",
    "plt.subplots_adjust(right=2, bottom=0.2, top=1.5, hspace=0.6)\n",
    "plt.show()"
   ]
  },
  {
   "cell_type": "markdown",
   "metadata": {},
   "source": [
    "#### 2. [1 балл] Постройте график зависимости суммы покупок от дней."
   ]
  },
  {
   "cell_type": "code",
   "execution_count": 1578,
   "metadata": {},
   "outputs": [
    {
     "data": {
      "image/png": "[encoded data removed]",
      "text/plain": [
       "<Figure size 432x288 with 1 Axes>"
      ]
     },
     "metadata": {},
     "output_type": "display_data"
    }
   ],
   "source": [
    "sum_in_days = bill.groupby('date').sum()['numeric_item_price']\n",
    "\n",
    "fig, ax = plt.subplots()\n",
    "ax.plot(sum_in_days.index, sum_in_days.values)\n",
    "ax.grid(linewidth=1)\n",
    "plt.subplots_adjust(right=2, bottom=0.2, top=1.5, hspace=0.6)\n",
    "plt.xticks(rotation='vertical')\n",
    "plt.title(\"The dependence of the price on days\", fontsize=14, weight='bold')\n",
    "plt.xlabel('date', fontsize=14)\n",
    "plt.ylabel('sum($)', fontsize=14)\n",
    "plt.show()"
   ]
  },
  {
   "cell_type": "markdown",
   "metadata": {},
   "source": [
    "#### 3. [1 балл] Постройте график средних сумм покупок по дням недели (bar plot)."
   ]
  },
  {
   "cell_type": "markdown",
   "metadata": {},
   "source": [
    "Аттрибут dt.weekday_name найден на [этом сайте](http://qaru.site/questions/278348/create-a-day-of-week-column-in-a-pandas-dataframe-using-python)"
   ]
  },
  {
   "cell_type": "code",
   "execution_count": 1579,
   "metadata": {},
   "outputs": [
    {
     "data": {
      "image/png": "[encoded data removed]",
      "text/plain": [
       "<Figure size 432x288 with 1 Axes>"
      ]
     },
     "metadata": {},
     "output_type": "display_data"
    }
   ],
   "source": [
    "bill['date'] = pd.to_datetime(bill['date']) \n",
    "bill['day_of_week'] = bill['date'].dt.weekday_name\n",
    "#Теперь в таблице есть ещё и дни недели\n",
    "day_of_weeks = ['Monday', 'Tuesday', 'Wednesday', 'Thursday', 'Friday', 'Saturday', 'Sunday']\n",
    "\n",
    "weekdays = pd.DataFrame({\n",
    "    i: bill.groupby('day_of_week').mean().loc[i] for i in day_of_weeks\n",
    "})\n",
    "x = weekdays.columns\n",
    "\n",
    "fig, ax = plt.subplots()\n",
    "plt.bar(x, weekdays.loc['numeric_item_price'])\n",
    "plt.xticks(x)\n",
    "plt.title(\"Average sum in bill on weekdays\", fontsize=14, weight='bold')\n",
    "plt.xlabel('Weekdays', fontsize=14)\n",
    "plt.ylabel('Average sum($)', fontsize=14)\n",
    "plt.yscale('log')\n",
    "plt.yticks(np.arange(7.0, 7.8, step=0.1))\n",
    "plt.subplots_adjust(right=2, bottom=0.2, top=1.5, hspace=0.6)\n",
    "plt.show()"
   ]
  },
  {
   "cell_type": "markdown",
   "metadata": {},
   "source": [
    "#### 4. [1 балл] Постройте график зависимости денег за товар от купленного количества (scatter plot)."
   ]
  },
  {
   "cell_type": "markdown",
   "metadata": {},
   "source": [
    "За товар считаю пару (item_name, choice_description), поскольку если считать отдельно по одной из компонент, то найдутся наименования с разными ценами, но одним названием в одном из классов"
   ]
  },
  {
   "cell_type": "code",
   "execution_count": 1580,
   "metadata": {},
   "outputs": [
    {
     "data": {
      "image/png": "[encoded data removed]",
      "text/plain": [
       "<Figure size 432x288 with 1 Axes>"
      ]
     },
     "metadata": {},
     "output_type": "display_data"
    }
   ],
   "source": [
    "bill['special_price'] = bill['numeric_item_price'] / bill.quantity\n",
    "amount_of_items = bill.groupby(['item_name', 'choice_description'])['quantity'].sum()\n",
    "group_of_prices = bill.groupby(['item_name', 'choice_description'])['special_price']\n",
    "x = np.array(amount_of_items.values)\n",
    "y = np.array([i[0] for i in group_of_prices.unique().values])\n",
    "area = (30 * np.random.rand(1871))**2\n",
    "plot1 = plt.figure()\n",
    "plt.scatter(x, y, s=area, alpha=0.5)\n",
    "plt.subplots_adjust(right=2, bottom=0.2, top=1.5, hspace=0.6)\n",
    "plt.title(\"The dependence between price of goods and quantity\", fontsize=14, weight='bold')\n",
    "plt.xlabel('Quantity', fontsize=14)\n",
    "plt.ylabel('Price($)', fontsize=14)\n",
    "plt.xscale('log')\n",
    "plt.show()"
   ]
  },
  {
   "cell_type": "markdown",
   "metadata": {},
   "source": [
    "Впервые строю графики подобного типа, поэтому построил сначала вариант выше по принципу построения в [примере документации](https://matplotlib.org/gallery/shapes_and_collections/scatter.html#sphx-glr-gallery-shapes-and-collections-scatter-py)\n",
    "Он показался мне более наглядным, чем без рандомизации областей:"
   ]
  },
  {
   "cell_type": "code",
   "execution_count": 1581,
   "metadata": {},
   "outputs": [
    {
     "data": {
      "image/png": "[encoded data removed]",
      "text/plain": [
       "<Figure size 432x288 with 1 Axes>"
      ]
     },
     "metadata": {},
     "output_type": "display_data"
    }
   ],
   "source": [
    "plot2 = plt.figure()\n",
    "plt.scatter(x, y, alpha=0.5)\n",
    "plt.subplots_adjust(right=2, bottom=0.2, top=1.5, hspace=0.6)\n",
    "plt.title(\"The dependence between price of goods and quantity\", fontsize=14, weight='bold')\n",
    "plt.xlabel('Quantity', fontsize=14)\n",
    "plt.ylabel('Price($)', fontsize=14)\n",
    "plt.xscale('log')\n",
    "plt.show()"
   ]
  },
  {
   "cell_type": "markdown",
   "metadata": {},
   "source": [
    "Сохраните график в формате pdf (так он останется векторизованным)."
   ]
  },
  {
   "cell_type": "markdown",
   "metadata": {},
   "source": [
    "Поскольку предложил 2 варианта графика, то сохраню оба:"
   ]
  },
  {
   "cell_type": "code",
   "execution_count": 1582,
   "metadata": {},
   "outputs": [],
   "source": [
    "plot1.savefig('plot1.pdf', bbox_inches='tight')\n",
    "plot2.savefig('plot2.pdf', bbox_inches='tight')"
   ]
  },
  {
   "cell_type": "markdown",
   "metadata": {},
   "source": [
    "В сохранении помогли: [ссылка1](http://qaru.site/questions/13611/save-plot-to-image-file-instead-of-displaying-it-using-matplotlib), [ссылка2](https://matplotlib.org/api/_as_gen/matplotlib.pyplot.savefig.html)"
   ]
  },
  {
   "cell_type": "markdown",
   "metadata": {},
   "source": [
    "Кстати, существует надстройка над matplotlib под названием [seaborn](https://jakevdp.github.io/PythonDataScienceHandbook/04.14-visualization-with-seaborn.html). Иногда удобнее и красивее делать визуализации через неё. "
   ]
  }
 ],
 "metadata": {
  "kernel_info": {
   "name": "py36"
  },
  "kernelspec": {
   "display_name": "Python 3",
   "language": "python",
   "name": "python3"
  },
  "language_info": {
   "codemirror_mode": {
    "name": "ipython",
    "version": 3
   },
   "file_extension": ".py",
   "mimetype": "text/x-python",
   "name": "python",
   "nbconvert_exporter": "python",
   "pygments_lexer": "ipython3",
   "version": "3.6.5"
  },
  "nteract": {
   "version": "0.11.6"
  }
 },
 "nbformat": 4,
 "nbformat_minor": 2
}
